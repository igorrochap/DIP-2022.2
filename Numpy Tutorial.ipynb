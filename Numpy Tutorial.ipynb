{
  "cells": [
    {
      "cell_type": "code",
      "execution_count": null,
      "metadata": {
        "id": "f5X3mQE1hijG"
      },
      "outputs": [],
      "source": [
        "import numpy as np\n",
        "import matplotlib.pyplot as plt"
      ]
    },
    {
      "cell_type": "markdown",
      "metadata": {
        "id": "AJ9sPDQOhqzS"
      },
      "source": [
        "# Numpy Array"
      ]
    },
    {
      "cell_type": "markdown",
      "metadata": {
        "id": "nsm4zxR-hxVU"
      },
      "source": [
        "### How to create an empty and a full NumPy array?"
      ]
    },
    {
      "cell_type": "code",
      "execution_count": null,
      "metadata": {
        "colab": {
          "base_uri": "https://localhost:8080/"
        },
        "id": "QubkP9Xhh25R",
        "outputId": "ff2e41b2-57e3-4300-f9a3-13445767240a"
      },
      "outputs": [
        {
          "output_type": "stream",
          "name": "stdout",
          "text": [
            "[]\n",
            "[10 10 10 10 10]\n"
          ]
        }
      ],
      "source": [
        "empty = np.empty(0)\n",
        "full = np.full(5, 10)\n",
        "\n",
        "print(empty)\n",
        "print(full)"
      ]
    },
    {
      "cell_type": "markdown",
      "metadata": {
        "id": "Yo3dq8fDi6DG"
      },
      "source": [
        "### Create a Numpy array filled with all zeros"
      ]
    },
    {
      "cell_type": "code",
      "execution_count": null,
      "metadata": {
        "colab": {
          "base_uri": "https://localhost:8080/"
        },
        "id": "tHdZobMVi8XS",
        "outputId": "6416734a-fb45-4dbe-e096-826544eec787"
      },
      "outputs": [
        {
          "output_type": "execute_result",
          "data": {
            "text/plain": [
              "array([0., 0., 0., 0., 0.])"
            ]
          },
          "metadata": {},
          "execution_count": 3
        }
      ],
      "source": [
        "filled_with_zeros = np.zeros(5)\n",
        "filled_with_zeros"
      ]
    },
    {
      "cell_type": "markdown",
      "metadata": {
        "id": "ag07qRR6jPRx"
      },
      "source": [
        "### Create a Numpy array filled with all ones"
      ]
    },
    {
      "cell_type": "code",
      "execution_count": null,
      "metadata": {
        "colab": {
          "base_uri": "https://localhost:8080/"
        },
        "id": "Ui2R2ccljR86",
        "outputId": "f7b83bca-61e1-42f7-dc63-fd0793139f33"
      },
      "outputs": [
        {
          "output_type": "execute_result",
          "data": {
            "text/plain": [
              "array([1., 1., 1., 1., 1.])"
            ]
          },
          "metadata": {},
          "execution_count": 4
        }
      ],
      "source": [
        "filled_with_ones = np.ones(5)\n",
        "filled_with_ones"
      ]
    },
    {
      "cell_type": "markdown",
      "metadata": {
        "id": "i902r9B5SGfT"
      },
      "source": [
        "### Check whether a Numpy array contains a specified row"
      ]
    },
    {
      "cell_type": "code",
      "execution_count": null,
      "metadata": {
        "colab": {
          "base_uri": "https://localhost:8080/"
        },
        "id": "wBT67xNcSJ5s",
        "outputId": "ff7050f3-0786-4ad0-afdd-36700c61fdd3"
      },
      "outputs": [
        {
          "output_type": "stream",
          "name": "stdout",
          "text": [
            "[[ 1  2  3  4]\n",
            " [ 5  6  7  8]\n",
            " [ 9 10 11 12]]\n",
            "\n",
            " [5, 6, 7, 8]\n",
            "True\n",
            "\n",
            " [3, 4, 5, 6]\n",
            "False\n"
          ]
        }
      ],
      "source": [
        "def row_exists(row, array):\n",
        "  print(\"\\n\" ,row)\n",
        "  return row in array.tolist()\n",
        "\n",
        "array = np.array([[1,2,3,4], [5, 6, 7, 8], [9, 10, 11, 12]])\n",
        "\n",
        "print(array)\n",
        "print(row_exists([5, 6, 7, 8], array))\n",
        "print(row_exists([3, 4, 5, 6], array))"
      ]
    },
    {
      "cell_type": "markdown",
      "metadata": {
        "id": "kV07y2CeT7N-"
      },
      "source": [
        "### How to Remove rows in Numpy array that contains non-numeric (NaN) values"
      ]
    },
    {
      "cell_type": "code",
      "execution_count": null,
      "metadata": {
        "colab": {
          "base_uri": "https://localhost:8080/"
        },
        "id": "fGcz8Ih5UJVF",
        "outputId": "0dac50c8-20e6-4324-ff80-29f4374a455a"
      },
      "outputs": [
        {
          "output_type": "stream",
          "name": "stdout",
          "text": [
            "[[ 1.  2.  3.]\n",
            " [ 4. nan  6.]\n",
            " [ 7.  8.  9.]\n",
            " [nan 11. 12.]]\n",
            "\n",
            "[[1. 2. 3.]\n",
            " [7. 8. 9.]]\n"
          ]
        }
      ],
      "source": [
        "array = np.array([[1, 2, 3], [4, np.nan, 6], [7, 8, 9], [np.nan, 11, 12]])\n",
        "print(array)\n",
        "\n",
        "print()\n",
        "\n",
        "without_nan = array[~np.isnan(array).any(axis=1)]\n",
        "print(without_nan)"
      ]
    },
    {
      "cell_type": "markdown",
      "metadata": {
        "id": "RJaW2C0MVGlA"
      },
      "source": [
        "### Remove single-dimensional entries from the shape of an array"
      ]
    },
    {
      "cell_type": "code",
      "execution_count": null,
      "metadata": {
        "colab": {
          "base_uri": "https://localhost:8080/"
        },
        "id": "AwmCj3ZiVNro",
        "outputId": "fa806b38-748b-47e7-f788-c78c2f46219e"
      },
      "outputs": [
        {
          "output_type": "stream",
          "name": "stdout",
          "text": [
            "Shape:  (3, 1, 4)\n",
            "[[[0. 0. 0. 0.]]\n",
            "\n",
            " [[0. 0. 0. 0.]]\n",
            "\n",
            " [[0. 0. 0. 0.]]]\n",
            "\n",
            "Shape:  (3, 4)\n",
            "[[0. 0. 0. 0.]\n",
            " [0. 0. 0. 0.]\n",
            " [0. 0. 0. 0.]]\n"
          ]
        }
      ],
      "source": [
        "array = np.zeros((3, 1, 4))\n",
        "squeezed_array = array.squeeze()\n",
        "\n",
        "print(\"Shape: \", array.shape)\n",
        "print(array)\n",
        "print()\n",
        "print(\"Shape: \", squeezed_array.shape)\n",
        "print(squeezed_array)"
      ]
    },
    {
      "cell_type": "markdown",
      "metadata": {
        "id": "RnojgV3lWtZ_"
      },
      "source": [
        "### Find the number of occurrences of a sequence in a NumPy array"
      ]
    },
    {
      "cell_type": "code",
      "execution_count": null,
      "metadata": {
        "colab": {
          "base_uri": "https://localhost:8080/"
        },
        "id": "6hQ56jxRWvrg",
        "outputId": "956faf0c-8c71-4663-c61e-76d945e63df7"
      },
      "outputs": [
        {
          "output_type": "stream",
          "name": "stdout",
          "text": [
            "[[1 3 5]\n",
            " [4 8 9]\n",
            " [3 5 7]\n",
            " [9 8 3]\n",
            " [7 3 5]]\n",
            "Sequence: 3, 5\n",
            "Ocurrences: 3\n"
          ]
        }
      ],
      "source": [
        "array = np.array([[1, 3, 5], [4, 8, 9], [3, 5, 7], [9, 8, 3], [7, 3, 5]])\n",
        "occurrences = repr(array).count(\"3, 5\")\n",
        "print(array)\n",
        "print(\"Sequence: 3, 5\")\n",
        "print(\"Ocurrences:\", occurrences)"
      ]
    },
    {
      "cell_type": "markdown",
      "metadata": {
        "id": "yDCKK2CMYEHu"
      },
      "source": [
        "### Find the most frequent value in a NumPy array"
      ]
    },
    {
      "cell_type": "code",
      "execution_count": null,
      "metadata": {
        "colab": {
          "base_uri": "https://localhost:8080/"
        },
        "id": "1ZbjWQ6gYLg-",
        "outputId": "256355f5-0e99-4751-ddae-503aaeddef59"
      },
      "outputs": [
        {
          "output_type": "stream",
          "name": "stdout",
          "text": [
            "[4 3 4 1 2 4 6 1 2 3 4 4 9 8 7 4]\n",
            "Most frequent value: 4\n"
          ]
        }
      ],
      "source": [
        "array = np.array([4, 3, 4, 1, 2, 4, 6, 1, 2, 3, 4, 4, 9, 8, 7, 4])\n",
        "bincount = np.bincount(array)\n",
        "print(array)\n",
        "print(\"Most frequent value:\", bincount.argmax())"
      ]
    },
    {
      "cell_type": "markdown",
      "metadata": {
        "id": "eS4zarRzZKRf"
      },
      "source": [
        "### Combining a one and a two-dimensional NumPy Array"
      ]
    },
    {
      "cell_type": "code",
      "execution_count": null,
      "metadata": {
        "colab": {
          "base_uri": "https://localhost:8080/"
        },
        "id": "OCh5_ltPZO2s",
        "outputId": "b13565a3-9d32-441c-ff82-16d899be4fc8"
      },
      "outputs": [
        {
          "output_type": "stream",
          "name": "stdout",
          "text": [
            "[0 1 2 3] \n",
            "\n",
            "[[0 1 2 3]\n",
            " [4 5 6 7]] \n",
            "\n",
            "0 : 0\n",
            "1 : 1\n",
            "2 : 2\n",
            "3 : 3\n",
            "0 : 4\n",
            "1 : 5\n",
            "2 : 6\n",
            "3 : 7\n"
          ]
        }
      ],
      "source": [
        "array_one_dim = np.arange(4)\n",
        "array_two_dim = np.arange(8).reshape(2, 4)\n",
        "\n",
        "print(array_one_dim, \"\\n\")\n",
        "print(array_two_dim, \"\\n\")\n",
        "\n",
        "for a, b in np.nditer([array_one_dim, array_two_dim]):\n",
        "  print(\"%d : %d\" % (a, b))"
      ]
    },
    {
      "cell_type": "markdown",
      "metadata": {
        "id": "TFRHGZ9XbRnJ"
      },
      "source": [
        "### How to build an array of all combinations of two NumPy arrays?"
      ]
    },
    {
      "cell_type": "code",
      "execution_count": null,
      "metadata": {
        "colab": {
          "base_uri": "https://localhost:8080/"
        },
        "id": "DuV90GmzbXcT",
        "outputId": "19458f69-aa0a-4c66-e590-bab50890c94d"
      },
      "outputs": [
        {
          "output_type": "stream",
          "name": "stdout",
          "text": [
            "[1, 2, 3, 4] \n",
            "\n",
            "[5, 6, 7, 8] \n",
            "\n",
            "[[1 5 1 6]\n",
            " [1 7 1 8]\n",
            " [2 5 2 6]\n",
            " [2 7 2 8]\n",
            " [3 5 3 6]\n",
            " [3 7 3 8]\n",
            " [4 5 4 6]\n",
            " [4 7 4 8]] \n",
            "\n"
          ]
        }
      ],
      "source": [
        "array_1 = [1, 2, 3, 4]\n",
        "array_2 = [5, 6, 7, 8]\n",
        "combinated_array = np.array(np.meshgrid(array_1, array_2)).T.reshape(-1, 4)\n",
        "\n",
        "print(array_1, \"\\n\")\n",
        "print(array_2, \"\\n\")\n",
        "print(combinated_array, \"\\n\")"
      ]
    },
    {
      "cell_type": "markdown",
      "metadata": {
        "id": "gCVOLC2vcqp7"
      },
      "source": [
        "### How to add a border around a NumPy array?"
      ]
    },
    {
      "cell_type": "code",
      "execution_count": null,
      "metadata": {
        "colab": {
          "base_uri": "https://localhost:8080/"
        },
        "id": "KyRAcHUQctQ5",
        "outputId": "e7e462d6-1612-4a9f-c805-016249922ccb"
      },
      "outputs": [
        {
          "output_type": "stream",
          "name": "stdout",
          "text": [
            "[[1. 1. 1.]\n",
            " [1. 1. 1.]\n",
            " [1. 1. 1.]] \n",
            "\n",
            "[[0. 0. 0. 0. 0.]\n",
            " [0. 1. 1. 1. 0.]\n",
            " [0. 1. 1. 1. 0.]\n",
            " [0. 1. 1. 1. 0.]\n",
            " [0. 0. 0. 0. 0.]]\n"
          ]
        }
      ],
      "source": [
        "array = np.ones((3,3))\n",
        "print(array, \"\\n\")\n",
        "\n",
        "array = np.pad(array, pad_width = 1, mode = \"constant\", constant_values = 0)\n",
        "print(array)"
      ]
    },
    {
      "cell_type": "markdown",
      "metadata": {
        "id": "asNxE1vMdgWh"
      },
      "source": [
        "### How to compare two NumPy arrays?"
      ]
    },
    {
      "cell_type": "code",
      "execution_count": null,
      "metadata": {
        "colab": {
          "base_uri": "https://localhost:8080/"
        },
        "id": "5rui9MI-dkMl",
        "outputId": "bca10c68-5ed5-49e7-8bf5-5e3f36ca7d2e"
      },
      "outputs": [
        {
          "output_type": "stream",
          "name": "stdout",
          "text": [
            "[[1 2 3 4]] [[1 2 3 4]]\n",
            "True \n",
            "\n",
            "[[1 2 3 4]] [[1 2 4 3]]\n",
            "False\n"
          ]
        }
      ],
      "source": [
        "def are_equals(a, b):\n",
        "  print(a, b)\n",
        "  return (a == b).all()\n",
        "\n",
        "a = np.array([[1, 2, 3, 4]])\n",
        "b = np.array([[1, 2, 3, 4]])\n",
        "c = np.array([[1, 2, 4, 3]])\n",
        "\n",
        "print(are_equals(a, b), \"\\n\")\n",
        "print(are_equals(a, c))"
      ]
    },
    {
      "cell_type": "markdown",
      "metadata": {
        "id": "gbDLdC8uex9c"
      },
      "source": [
        "### How to check whether specified values are present in NumPy array?"
      ]
    },
    {
      "cell_type": "code",
      "execution_count": null,
      "metadata": {
        "colab": {
          "base_uri": "https://localhost:8080/"
        },
        "id": "fOhAtBVufPbR",
        "outputId": "812b0c7e-3b0e-4cca-a58a-e8ce271fb906"
      },
      "outputs": [
        {
          "output_type": "stream",
          "name": "stdout",
          "text": [
            "[[1 2 3 4]\n",
            " [5 6 7 8]] \n",
            "\n",
            "2\n",
            "True \n",
            "\n",
            "5\n",
            "True \n",
            "\n",
            "9\n",
            "False\n"
          ]
        }
      ],
      "source": [
        "def in_array(value, array):\n",
        "  print(value)\n",
        "  return value in array\n",
        "\n",
        "array = np.array([[1, 2, 3, 4], [5, 6, 7, 8]])\n",
        "print(array, \"\\n\")\n",
        "print(in_array(2, array), \"\\n\")\n",
        "print(in_array(5, array), \"\\n\")\n",
        "print(in_array(9, array))"
      ]
    },
    {
      "cell_type": "markdown",
      "metadata": {
        "id": "WE_XmOPhhK1m"
      },
      "source": [
        "### How to get all 2D diagonals of a 3D NumPy array?"
      ]
    },
    {
      "cell_type": "code",
      "execution_count": null,
      "metadata": {
        "colab": {
          "base_uri": "https://localhost:8080/"
        },
        "id": "1zpoPAX9htp5",
        "outputId": "849ae2ba-6cb3-4d9b-d244-4b50d7cc7866"
      },
      "outputs": [
        {
          "output_type": "stream",
          "name": "stdout",
          "text": [
            "[[[ 0  1  2  3]\n",
            "  [ 4  5  6  7]\n",
            "  [ 8  9 10 11]\n",
            "  [12 13 14 15]]\n",
            "\n",
            " [[16 17 18 19]\n",
            "  [20 21 22 23]\n",
            "  [24 25 26 27]\n",
            "  [28 29 30 31]]\n",
            "\n",
            " [[32 33 34 35]\n",
            "  [36 37 38 39]\n",
            "  [40 41 42 43]\n",
            "  [44 45 46 47]]] \n",
            "\n",
            "2D diagonals:\n",
            "[[ 0  5 10 15]\n",
            " [16 21 26 31]\n",
            " [32 37 42 47]]\n"
          ]
        }
      ],
      "source": [
        "array = np.arange(48).reshape(3, 4, 4)\n",
        "diagonals = np.diagonal(array, axis1 = 1, axis2 = 2)\n",
        "\n",
        "print(array, \"\\n\")\n",
        "print(\"2D diagonals:\")\n",
        "print(diagonals)"
      ]
    },
    {
      "cell_type": "markdown",
      "metadata": {
        "id": "5EHaW3graclZ"
      },
      "source": [
        "### Flatten a Matrix in Python using NumPy"
      ]
    },
    {
      "cell_type": "code",
      "execution_count": null,
      "metadata": {
        "colab": {
          "base_uri": "https://localhost:8080/"
        },
        "id": "HM3lrQXKao2e",
        "outputId": "ca046448-272b-42c0-b3c7-e60ca7e1813d"
      },
      "outputs": [
        {
          "output_type": "stream",
          "name": "stdout",
          "text": [
            "[[1 2]\n",
            " [3 4]] \n",
            "\n",
            "[1 2 3 4]\n"
          ]
        }
      ],
      "source": [
        "matrix = np.array([[1, 2], [3, 4]])\n",
        "flattened = matrix.flatten()\n",
        "\n",
        "print(matrix, \"\\n\")\n",
        "print(flattened)"
      ]
    },
    {
      "cell_type": "markdown",
      "metadata": {
        "id": "Pg4l9G1hbTgb"
      },
      "source": [
        "### Flatten a 2d numpy array into 1d array"
      ]
    },
    {
      "cell_type": "code",
      "execution_count": null,
      "metadata": {
        "colab": {
          "base_uri": "https://localhost:8080/"
        },
        "id": "_bmcP825bZiG",
        "outputId": "9aeae94a-54d1-48fc-cae2-d12b875a5526"
      },
      "outputs": [
        {
          "output_type": "stream",
          "name": "stdout",
          "text": [
            "[[1 2 3]\n",
            " [4 5 6]\n",
            " [7 8 9]] \n",
            "\n",
            "[1 2 3 4 5 6 7 8 9]\n"
          ]
        }
      ],
      "source": [
        "array = np.array([[1, 2, 3], [4, 5, 6], [7, 8, 9]])\n",
        "flattened = array.ravel()\n",
        "\n",
        "print(array, \"\\n\")\n",
        "print(flattened)"
      ]
    },
    {
      "cell_type": "markdown",
      "metadata": {
        "id": "vJl628GQcFnl"
      },
      "source": [
        "### Move axes of an array to new positions"
      ]
    },
    {
      "cell_type": "code",
      "execution_count": null,
      "metadata": {
        "colab": {
          "base_uri": "https://localhost:8080/"
        },
        "id": "dT0CULt0cMpG",
        "outputId": "e11eded4-e734-434c-e79d-758d65271cce"
      },
      "outputs": [
        {
          "output_type": "stream",
          "name": "stdout",
          "text": [
            "[[[0. 0. 0. 0.]\n",
            "  [0. 0. 0. 0.]\n",
            "  [0. 0. 0. 0.]]\n",
            "\n",
            " [[0. 0. 0. 0.]\n",
            "  [0. 0. 0. 0.]\n",
            "  [0. 0. 0. 0.]]]\n",
            "Shape: (2, 3, 4) \n",
            "\n",
            "[[[0. 0.]\n",
            "  [0. 0.]\n",
            "  [0. 0.]\n",
            "  [0. 0.]]\n",
            "\n",
            " [[0. 0.]\n",
            "  [0. 0.]\n",
            "  [0. 0.]\n",
            "  [0. 0.]]\n",
            "\n",
            " [[0. 0.]\n",
            "  [0. 0.]\n",
            "  [0. 0.]\n",
            "  [0. 0.]]]\n",
            "Shape: (3, 4, 2)\n"
          ]
        }
      ],
      "source": [
        "array = np.zeros((2, 3, 4))\n",
        "axes_moved = np.moveaxis(array, 0, -1)\n",
        "\n",
        "print(array)\n",
        "print(\"Shape:\", array.shape, \"\\n\")\n",
        "print(axes_moved)\n",
        "print(\"Shape:\", axes_moved.shape)"
      ]
    },
    {
      "cell_type": "markdown",
      "metadata": {
        "id": "k514Jw6AdaYw"
      },
      "source": [
        "### Interchange two axes of an array"
      ]
    },
    {
      "cell_type": "code",
      "execution_count": null,
      "metadata": {
        "colab": {
          "base_uri": "https://localhost:8080/"
        },
        "id": "hEwSruGGdg0R",
        "outputId": "b0bd2ef2-36d9-4434-c671-8390344068a1"
      },
      "outputs": [
        {
          "output_type": "stream",
          "name": "stdout",
          "text": [
            "[[1 2 3]\n",
            " [4 5 6]] \n",
            "\n",
            "[[1 4]\n",
            " [2 5]\n",
            " [3 6]]\n"
          ]
        }
      ],
      "source": [
        "array = np.array([[1, 2, 3], [4, 5, 6]])\n",
        "swapped = np.swapaxes(array, 0, 1)\n",
        "\n",
        "print(array, \"\\n\")\n",
        "print(swapped)"
      ]
    },
    {
      "cell_type": "markdown",
      "metadata": {
        "id": "g9Y-SPm8eNF0"
      },
      "source": [
        "### NumPy – Fibonacci Series using Binet Formula"
      ]
    },
    {
      "cell_type": "code",
      "execution_count": null,
      "metadata": {
        "colab": {
          "base_uri": "https://localhost:8080/"
        },
        "id": "AxosTeBTeSAY",
        "outputId": "db80ce99-7d97-4f35-a646-cb20146bd7f0"
      },
      "outputs": [
        {
          "output_type": "stream",
          "name": "stdout",
          "text": [
            "[ 0.  1.  1.  2.  3.  5.  8. 13. 21. 34. 55.]\n"
          ]
        }
      ],
      "source": [
        "n = 11\n",
        "array = np.arange(n)\n",
        "\n",
        "sqrt_of_five = np.sqrt(5)\n",
        "alpha = (1 + sqrt_of_five) / 2\n",
        "beta = (1 - sqrt_of_five) / 2\n",
        "\n",
        "fibonnaci = np.rint(((alpha ** array) - (beta ** array)) / sqrt_of_five)\n",
        "print(fibonnaci)"
      ]
    },
    {
      "cell_type": "markdown",
      "metadata": {
        "id": "1CKkkh0ogQ0t"
      },
      "source": [
        "### Counts the number of non-zero values in the array"
      ]
    },
    {
      "cell_type": "code",
      "execution_count": null,
      "metadata": {
        "colab": {
          "base_uri": "https://localhost:8080/"
        },
        "id": "kxdVnNbRgXVJ",
        "outputId": "58dae4d9-2b21-4010-ae59-f84136d90c39"
      },
      "outputs": [
        {
          "output_type": "stream",
          "name": "stdout",
          "text": [
            "[[1 3 0 4]\n",
            " [0 0 0 1]]\n",
            "Non-zero values: 4\n"
          ]
        }
      ],
      "source": [
        "array = np.array([[1, 3, 0, 4], [0, 0, 0, 1]])\n",
        "non_zero_values = np.count_nonzero(array)\n",
        "\n",
        "print(array)\n",
        "print(\"Non-zero values:\", non_zero_values)"
      ]
    },
    {
      "cell_type": "markdown",
      "metadata": {
        "id": "pFQV8hwjg5yA"
      },
      "source": [
        "### Count the number of elements along a given axis"
      ]
    },
    {
      "cell_type": "code",
      "execution_count": null,
      "metadata": {
        "colab": {
          "base_uri": "https://localhost:8080/"
        },
        "id": "WMrj1JS1g98e",
        "outputId": "d8f39728-1626-4387-93c9-6df258c753cd"
      },
      "outputs": [
        {
          "output_type": "stream",
          "name": "stdout",
          "text": [
            "[[1 2 3]\n",
            " [4 5 6]] \n",
            "\n",
            "Element along x-axis 2\n",
            "Element along y-axis 3\n"
          ]
        }
      ],
      "source": [
        "array = np.array([[1, 2, 3], [4, 5, 6]])\n",
        "count_x_axis = np.size(array, 0)\n",
        "count_y_axis = np.size(array, 1)\n",
        "\n",
        "print(array, \"\\n\")\n",
        "print(\"Element along x-axis\", count_x_axis)\n",
        "print(\"Element along y-axis\", count_y_axis)"
      ]
    },
    {
      "cell_type": "markdown",
      "metadata": {
        "id": "fF67Dzmsh5xs"
      },
      "source": [
        "### Trim the leading and/or trailing zeros from a 1-D array"
      ]
    },
    {
      "cell_type": "code",
      "execution_count": null,
      "metadata": {
        "colab": {
          "base_uri": "https://localhost:8080/"
        },
        "id": "lQFsrdeUh9zV",
        "outputId": "70ed71da-a5a8-4204-e39e-3c11453b29e6"
      },
      "outputs": [
        {
          "output_type": "stream",
          "name": "stdout",
          "text": [
            "[0 0 0 3 0 4 3 0 1 2 0 0]\n",
            "[3 0 4 3 0 1 2]\n"
          ]
        }
      ],
      "source": [
        "array = np.array((0, 0, 0, 3, 0, 4, 3, 0, 1, 2, 0, 0))\n",
        "trimmed = np.trim_zeros(array)\n",
        "\n",
        "print(array)\n",
        "print(trimmed)"
      ]
    },
    {
      "cell_type": "markdown",
      "metadata": {
        "id": "p58PEOSwjN1Z"
      },
      "source": [
        "### Change data type of given numpy array"
      ]
    },
    {
      "cell_type": "code",
      "execution_count": null,
      "metadata": {
        "colab": {
          "base_uri": "https://localhost:8080/"
        },
        "id": "bJLr72tPjQ2W",
        "outputId": "47b92609-72f3-4473-fcd3-2a795035930d"
      },
      "outputs": [
        {
          "output_type": "stream",
          "name": "stdout",
          "text": [
            "[ 2  4  6  8  9 10]\n",
            "Data type: int64\n",
            "[ 2.  4.  6.  8.  9. 10.]\n",
            "Data type: float64\n"
          ]
        }
      ],
      "source": [
        "int_array = np.array([2, 4, 6, 8, 9, 10])\n",
        "float_array = int_array.astype(\"float64\")\n",
        "\n",
        "print(int_array)\n",
        "print(\"Data type:\", array.dtype)\n",
        "print(float_array)\n",
        "print(\"Data type:\", float_array.dtype)"
      ]
    },
    {
      "cell_type": "markdown",
      "metadata": {
        "id": "IIspcWzokg_j"
      },
      "source": [
        "### Reverse a numpy array"
      ]
    },
    {
      "cell_type": "code",
      "execution_count": null,
      "metadata": {
        "colab": {
          "base_uri": "https://localhost:8080/"
        },
        "id": "2L9Qb0NTkkdI",
        "outputId": "48397c4f-6777-45b8-ade3-02f0240d2f87"
      },
      "outputs": [
        {
          "output_type": "stream",
          "name": "stdout",
          "text": [
            "[0 1 2 3 4 5 6 7 8 9]\n",
            "[9 8 7 6 5 4 3 2 1 0]\n"
          ]
        }
      ],
      "source": [
        "array = np.arange(10)\n",
        "reversed = np.flip(array)\n",
        "\n",
        "print(array)\n",
        "print(reversed)"
      ]
    },
    {
      "cell_type": "markdown",
      "metadata": {
        "id": "Hhj7nONHlC5B"
      },
      "source": [
        "### How to make a NumPy array read-only?"
      ]
    },
    {
      "cell_type": "code",
      "execution_count": null,
      "metadata": {
        "colab": {
          "base_uri": "https://localhost:8080/"
        },
        "id": "dgNQrnKclFJ2",
        "outputId": "e7e44091-3dca-4270-ab8a-d57901d46379"
      },
      "outputs": [
        {
          "output_type": "stream",
          "name": "stdout",
          "text": [
            "[0. 0. 0. 0. 0.]\n",
            "[0. 0. 1. 0. 0.]\n",
            "ERROR: assignment destination is read-only\n"
          ]
        }
      ],
      "source": [
        "array = np.zeros(5)\n",
        "print(array)\n",
        "\n",
        "array[2] = 1\n",
        "print(array)\n",
        "\n",
        "array.setflags(write=False)\n",
        "\n",
        "try:\n",
        "  array[1] = 1\n",
        "except ValueError as exception:\n",
        "  print(\"ERROR:\", exception)"
      ]
    },
    {
      "cell_type": "markdown",
      "metadata": {
        "id": "mhMyJO_cl0Vz"
      },
      "source": [
        "# Questions on NumPy Matrix"
      ]
    },
    {
      "cell_type": "markdown",
      "metadata": {
        "id": "0HwlBRFYnRP5"
      },
      "source": [
        "### Get the maximum value from given matrix"
      ]
    },
    {
      "cell_type": "code",
      "execution_count": null,
      "metadata": {
        "colab": {
          "base_uri": "https://localhost:8080/"
        },
        "id": "uBGlgw4xnUwk",
        "outputId": "33a8958e-4efb-4979-bc8d-794cfe67db04"
      },
      "outputs": [
        {
          "output_type": "stream",
          "name": "stdout",
          "text": [
            "[[ 1  2  3]\n",
            " [ 4  5  6]\n",
            " [10  8  9]] \n",
            "\n",
            "Max: 10\n"
          ]
        }
      ],
      "source": [
        "matrix = np.matrix('1 2 3; 4 5 6; 10 8 9')\n",
        "max = matrix.max()\n",
        "print(matrix, \"\\n\")\n",
        "print(\"Max:\", max)"
      ]
    },
    {
      "cell_type": "markdown",
      "metadata": {
        "id": "DJweMwKA_I8W"
      },
      "source": [
        "### Get the minimum value from given matrix"
      ]
    },
    {
      "cell_type": "code",
      "execution_count": null,
      "metadata": {
        "colab": {
          "base_uri": "https://localhost:8080/"
        },
        "id": "8WSGSRRm_LXZ",
        "outputId": "38994b39-12a0-4bde-8ce6-c59681c0c482"
      },
      "outputs": [
        {
          "output_type": "stream",
          "name": "stdout",
          "text": [
            "[[ 7  1  3]\n",
            " [ 4  5  6]\n",
            " [10  8  9]] \n",
            "\n",
            "Min: 1\n"
          ]
        }
      ],
      "source": [
        "matrix = np.matrix('7 1 3; 4 5 6; 10 8 9')\n",
        "min = matrix.min()\n",
        "print(matrix, \"\\n\")\n",
        "print(\"Min:\", min)"
      ]
    },
    {
      "cell_type": "markdown",
      "metadata": {
        "id": "rYznS4PR_Udw"
      },
      "source": [
        "### Find the number of rows and columns of a given matrix using NumPy"
      ]
    },
    {
      "cell_type": "code",
      "execution_count": null,
      "metadata": {
        "colab": {
          "base_uri": "https://localhost:8080/"
        },
        "id": "tcyDP3IN_XuA",
        "outputId": "64ae387a-d20f-4fbb-ba22-c192e55f1091"
      },
      "outputs": [
        {
          "output_type": "stream",
          "name": "stdout",
          "text": [
            "[[ 7  1  3]\n",
            " [ 4  5  6]\n",
            " [10  8  9]\n",
            " [ 3  2  5]] \n",
            "\n",
            "Rows: 4\n",
            "Columns: 3\n"
          ]
        }
      ],
      "source": [
        "matrix = np.matrix('7 1 3; 4 5 6; 10 8 9; 3 2 5')\n",
        "rows, columns = matrix.shape\n",
        "print(matrix, \"\\n\")\n",
        "print(\"Rows:\", rows)\n",
        "print(\"Columns:\", columns)"
      ]
    },
    {
      "cell_type": "markdown",
      "metadata": {
        "id": "_AaO122U_xVg"
      },
      "source": [
        "### Select the elements from a given matrix"
      ]
    },
    {
      "cell_type": "code",
      "execution_count": null,
      "metadata": {
        "colab": {
          "base_uri": "https://localhost:8080/"
        },
        "id": "aPTHJI9m_38s",
        "outputId": "41313f10-6953-4195-a918-74f442eca224"
      },
      "outputs": [
        {
          "output_type": "stream",
          "name": "stdout",
          "text": [
            "[[ 7  1  3]\n",
            " [ 4  5  6]\n",
            " [10  8  9]\n",
            " [ 3  2  5]] \n",
            "\n",
            "[[10  2  3]]\n"
          ]
        }
      ],
      "source": [
        "matrix = np.matrix('7 1 3; 4 5 6; 10 8 9; 3 2 5')\n",
        "some_elements = np.choose([2, 3, 0], matrix)\n",
        "\n",
        "print(matrix, \"\\n\")\n",
        "print(some_elements)"
      ]
    },
    {
      "cell_type": "markdown",
      "metadata": {
        "id": "7ONML8S-T88r"
      },
      "source": [
        "### Find the sum of values in a matrix"
      ]
    },
    {
      "cell_type": "code",
      "execution_count": null,
      "metadata": {
        "colab": {
          "base_uri": "https://localhost:8080/"
        },
        "id": "SCfPSpIbUAjC",
        "outputId": "a8f99805-2cd8-4257-c422-9eeac92e753e"
      },
      "outputs": [
        {
          "output_type": "stream",
          "name": "stdout",
          "text": [
            "[[1 1 1]\n",
            " [1 1 1]\n",
            " [1 1 1]] \n",
            "\n",
            "Sum: 9\n"
          ]
        }
      ],
      "source": [
        "matrix = np.matrix('1 1 1; 1 1 1; 1 1 1')\n",
        "sum = np.sum(matrix)\n",
        "print(matrix, \"\\n\")\n",
        "print(\"Sum:\", sum)"
      ]
    },
    {
      "cell_type": "markdown",
      "metadata": {
        "id": "RpiBT8hTQvQK"
      },
      "source": [
        "### Calculate the sum of the diagonal elements of a NumPy array"
      ]
    },
    {
      "cell_type": "code",
      "execution_count": null,
      "metadata": {
        "colab": {
          "base_uri": "https://localhost:8080/"
        },
        "id": "XaE_TQaUQy78",
        "outputId": "899fd188-ab27-4cf2-f12b-d1df2c417f52"
      },
      "outputs": [
        {
          "output_type": "stream",
          "name": "stdout",
          "text": [
            "[[ 1  3 10]\n",
            " [ 8  2  5]\n",
            " [15  7  3]] \n",
            "\n",
            "Sum: 6\n"
          ]
        }
      ],
      "source": [
        "matrix = np.matrix('1 3 10; 8 2 5; 15 7 3')\n",
        "diagonal_sum = np.trace(matrix)\n",
        "print(matrix, \"\\n\")\n",
        "print(\"Sum:\", diagonal_sum)"
      ]
    },
    {
      "cell_type": "markdown",
      "metadata": {
        "id": "GbION5_LR4sF"
      },
      "source": [
        "### Adding and Subtracting Matrices in Python"
      ]
    },
    {
      "cell_type": "code",
      "execution_count": null,
      "metadata": {
        "colab": {
          "base_uri": "https://localhost:8080/"
        },
        "id": "YDnMPglaSJV2",
        "outputId": "9ed91838-c7b5-419e-c298-f8a13f64723a"
      },
      "outputs": [
        {
          "output_type": "stream",
          "name": "stdout",
          "text": [
            "[[1 2]\n",
            " [3 4]] \n",
            "\n",
            "[[4 5]\n",
            " [6 7]] \n",
            "\n",
            "Adding:\n",
            "[[ 5  7]\n",
            " [ 9 11]] \n",
            "\n",
            "Subtracting:\n",
            "[[-3 -3]\n",
            " [-3 -3]] \n",
            "\n"
          ]
        }
      ],
      "source": [
        "matrix_1 = np.matrix(\"1 2; 3 4\")\n",
        "matrix_2 = np.matrix(\"4 5; 6 7\")\n",
        "adding_result = np.add(matrix_1, matrix_2)\n",
        "subtracting_result = np.subtract(matrix_1, matrix_2)\n",
        "\n",
        "print(matrix_1, \"\\n\")\n",
        "print(matrix_2, \"\\n\")\n",
        "\n",
        "print(\"Adding:\")\n",
        "print(adding_result, \"\\n\")\n",
        "print(\"Subtracting:\")\n",
        "print(subtracting_result, \"\\n\")"
      ]
    },
    {
      "cell_type": "markdown",
      "metadata": {
        "id": "oWHfiEWrTW2D"
      },
      "source": [
        "### Ways to add row/columns in numpy array"
      ]
    },
    {
      "cell_type": "code",
      "execution_count": null,
      "metadata": {
        "colab": {
          "base_uri": "https://localhost:8080/"
        },
        "id": "9J-Tje2qUeHw",
        "outputId": "597356f4-5b0c-445b-cbdb-16ddd1f36eb4"
      },
      "outputs": [
        {
          "output_type": "stream",
          "name": "stdout",
          "text": [
            "[[1 2 3]\n",
            " [4 5 6]]\n"
          ]
        }
      ],
      "source": [
        "array = np.array([[1, 2, 3], [4, 5, 6]])\n",
        "print(array)"
      ]
    },
    {
      "cell_type": "markdown",
      "metadata": {
        "id": "zkf_eORlTwS5"
      },
      "source": [
        "#### Rows"
      ]
    },
    {
      "cell_type": "code",
      "execution_count": null,
      "metadata": {
        "colab": {
          "base_uri": "https://localhost:8080/"
        },
        "id": "TyPurtzaU8mr",
        "outputId": "d30c4f67-1e95-4c21-ad2a-bcea782b7c8f"
      },
      "outputs": [
        {
          "output_type": "stream",
          "name": "stdout",
          "text": [
            "[7 8 9]\n"
          ]
        }
      ],
      "source": [
        "new_row = np.array([7, 8, 9])\n",
        "print(new_row)"
      ]
    },
    {
      "cell_type": "markdown",
      "metadata": {
        "id": "w3eh8VY1T4RM"
      },
      "source": [
        "##### 1 - r_"
      ]
    },
    {
      "cell_type": "code",
      "execution_count": null,
      "metadata": {
        "colab": {
          "base_uri": "https://localhost:8080/"
        },
        "id": "aeJMt9phUhL_",
        "outputId": "14a79eb1-aef9-40f6-964f-85570be47d8b"
      },
      "outputs": [
        {
          "output_type": "stream",
          "name": "stdout",
          "text": [
            "[[1 2 3]\n",
            " [4 5 6]\n",
            " [7 8 9]]\n"
          ]
        }
      ],
      "source": [
        "new_array = np.r_[array, [new_row]]\n",
        "print(new_array)"
      ]
    },
    {
      "cell_type": "markdown",
      "metadata": {
        "id": "v6GvRh0iVYF1"
      },
      "source": [
        "##### 2 - insert"
      ]
    },
    {
      "cell_type": "code",
      "execution_count": null,
      "metadata": {
        "colab": {
          "base_uri": "https://localhost:8080/"
        },
        "id": "4R4bON_rVflM",
        "outputId": "72c42754-9fff-46d8-b469-0f020ab493f5"
      },
      "outputs": [
        {
          "output_type": "stream",
          "name": "stdout",
          "text": [
            "[[1 2 3]\n",
            " [4 5 6]\n",
            " [7 8 9]]\n"
          ]
        }
      ],
      "source": [
        "new_array = np.insert(array, array.shape[0], [new_row], axis = 0)\n",
        "print(new_array)"
      ]
    },
    {
      "cell_type": "markdown",
      "metadata": {
        "id": "WsoBGkF6V2sL"
      },
      "source": [
        "##### 3 - vstack"
      ]
    },
    {
      "cell_type": "code",
      "execution_count": null,
      "metadata": {
        "colab": {
          "base_uri": "https://localhost:8080/"
        },
        "id": "K-SIxfOyV-ql",
        "outputId": "471c75fa-5e80-4d9a-8d41-4e2ec0a9efc2"
      },
      "outputs": [
        {
          "output_type": "stream",
          "name": "stdout",
          "text": [
            "[[1 2 3]\n",
            " [4 5 6]\n",
            " [7 8 9]]\n"
          ]
        }
      ],
      "source": [
        "new_array = np.vstack((array, new_row))\n",
        "print(new_array)"
      ]
    },
    {
      "cell_type": "markdown",
      "metadata": {
        "id": "_zS6MyHiWOtS"
      },
      "source": [
        "##### 4 - append"
      ]
    },
    {
      "cell_type": "code",
      "execution_count": null,
      "metadata": {
        "colab": {
          "base_uri": "https://localhost:8080/"
        },
        "id": "dM9KmauPWSGi",
        "outputId": "d1f16f36-927f-4bb3-cbd2-92144a91e83b"
      },
      "outputs": [
        {
          "output_type": "stream",
          "name": "stdout",
          "text": [
            "[[1 2 3]\n",
            " [4 5 6]\n",
            " [7 8 9]]\n"
          ]
        }
      ],
      "source": [
        "new_array = np.append(array, [new_row], axis = 0)\n",
        "print(new_array)"
      ]
    },
    {
      "cell_type": "markdown",
      "metadata": {
        "id": "VDAs87YIXKtZ"
      },
      "source": [
        "#### Columns"
      ]
    },
    {
      "cell_type": "code",
      "execution_count": null,
      "metadata": {
        "colab": {
          "base_uri": "https://localhost:8080/"
        },
        "id": "adWkKlwkXaOS",
        "outputId": "06cfaa0c-105a-4aca-b845-d92c40e78905"
      },
      "outputs": [
        {
          "output_type": "stream",
          "name": "stdout",
          "text": [
            "[[6]\n",
            " [7]]\n"
          ]
        }
      ],
      "source": [
        "new_column = np.array([[6], [7]])\n",
        "print(new_column)"
      ]
    },
    {
      "cell_type": "markdown",
      "metadata": {
        "id": "qNeMUh0hXRL_"
      },
      "source": [
        "##### 1 - append"
      ]
    },
    {
      "cell_type": "code",
      "execution_count": null,
      "metadata": {
        "colab": {
          "base_uri": "https://localhost:8080/"
        },
        "id": "OzVRYpWcXT31",
        "outputId": "ff2d574e-da53-4ad9-dc97-308bb259434f"
      },
      "outputs": [
        {
          "output_type": "stream",
          "name": "stdout",
          "text": [
            "[[1 2 3 6]\n",
            " [4 5 6 7]]\n"
          ]
        }
      ],
      "source": [
        "new_array = np.append(array, new_column, axis = 1)\n",
        "print(new_array)"
      ]
    },
    {
      "cell_type": "markdown",
      "metadata": {
        "id": "fDSt_OafYxQi"
      },
      "source": [
        "##### 2 - concatenate"
      ]
    },
    {
      "cell_type": "code",
      "execution_count": null,
      "metadata": {
        "colab": {
          "base_uri": "https://localhost:8080/"
        },
        "id": "HWMWrwNDY4yH",
        "outputId": "b6c341b3-433f-488c-d233-7eda0d862a01"
      },
      "outputs": [
        {
          "output_type": "stream",
          "name": "stdout",
          "text": [
            "[[1 2 3 6]\n",
            " [4 5 6 7]]\n"
          ]
        }
      ],
      "source": [
        "new_array = np.concatenate([array, new_column], axis = 1)\n",
        "print(new_array)"
      ]
    },
    {
      "cell_type": "markdown",
      "metadata": {
        "id": "FRlcbvLzbrZf"
      },
      "source": [
        "##### 3 - insert"
      ]
    },
    {
      "cell_type": "code",
      "execution_count": null,
      "metadata": {
        "colab": {
          "base_uri": "https://localhost:8080/"
        },
        "id": "1awrh8H3b8iz",
        "outputId": "94f99d61-b081-4381-9a6a-61920177644d"
      },
      "outputs": [
        {
          "output_type": "stream",
          "name": "stdout",
          "text": [
            "[[1 2 3 6]\n",
            " [4 5 6 7]]\n"
          ]
        }
      ],
      "source": [
        "new_array = np.insert(array, array.shape[1], new_column.ravel(), axis = 1)\n",
        "print(new_array)"
      ]
    },
    {
      "cell_type": "markdown",
      "metadata": {
        "id": "Jw_zwc9CdXXe"
      },
      "source": [
        "##### 4 - hstack"
      ]
    },
    {
      "cell_type": "code",
      "execution_count": null,
      "metadata": {
        "colab": {
          "base_uri": "https://localhost:8080/"
        },
        "id": "04h2RzkRdiOh",
        "outputId": "eff9d57c-0ce2-4d59-e526-49f58b51a6e1"
      },
      "outputs": [
        {
          "output_type": "stream",
          "name": "stdout",
          "text": [
            "[[1 2 3 6]\n",
            " [4 5 6 7]]\n"
          ]
        }
      ],
      "source": [
        "new_array = np.hstack((array, np.atleast_2d(new_column.ravel()).T))\n",
        "print(new_array)"
      ]
    },
    {
      "cell_type": "markdown",
      "metadata": {
        "id": "D6h-x30TeDmL"
      },
      "source": [
        "##### 5 - column_stack"
      ]
    },
    {
      "cell_type": "code",
      "execution_count": null,
      "metadata": {
        "colab": {
          "base_uri": "https://localhost:8080/"
        },
        "id": "JBshQFV1eIOa",
        "outputId": "e3ce6320-75b6-4904-ca00-023014d2d62b"
      },
      "outputs": [
        {
          "output_type": "stream",
          "name": "stdout",
          "text": [
            "[[1 2 3 6]\n",
            " [4 5 6 7]]\n"
          ]
        }
      ],
      "source": [
        "new_array = np.column_stack((array, new_column.ravel()))\n",
        "print(new_array)"
      ]
    },
    {
      "cell_type": "markdown",
      "metadata": {
        "id": "mQj78KhYec5f"
      },
      "source": [
        "### Matrix Multiplication in NumPy"
      ]
    },
    {
      "cell_type": "code",
      "execution_count": null,
      "metadata": {
        "colab": {
          "base_uri": "https://localhost:8080/"
        },
        "id": "zESsAbrWej5T",
        "outputId": "fcf99d73-b3cc-47e9-fa5e-c23dd2e099f4"
      },
      "outputs": [
        {
          "output_type": "stream",
          "name": "stdout",
          "text": [
            "[[1 0]\n",
            " [0 1]] \n",
            "\n",
            "[[5 2]\n",
            " [3 9]] \n",
            "\n",
            "Multiplication: \n",
            "[[5 2]\n",
            " [3 9]]\n"
          ]
        }
      ],
      "source": [
        "matrix_1 = np.matrix(\"1 0; 0 1\")\n",
        "matrix_2 = np.matrix(\"5 2; 3 9\")\n",
        "\n",
        "product = np.matmul(matrix_1, matrix_2)\n",
        "\n",
        "print(matrix_1, \"\\n\")\n",
        "print(matrix_2, \"\\n\")\n",
        "print(\"Multiplication: \")\n",
        "print(product)"
      ]
    },
    {
      "cell_type": "markdown",
      "metadata": {
        "id": "289og6I9kBkz"
      },
      "source": [
        "### Get the eigen values of a matrix"
      ]
    },
    {
      "cell_type": "code",
      "execution_count": null,
      "metadata": {
        "colab": {
          "base_uri": "https://localhost:8080/"
        },
        "id": "eFWHQUfVkGLj",
        "outputId": "4bef78fb-19bd-4665-887e-aea463b3b6af"
      },
      "outputs": [
        {
          "output_type": "stream",
          "name": "stdout",
          "text": [
            "[[1 2]\n",
            " [2 3]] \n",
            "\n",
            "Eigen values: [-0.23606798  4.23606798]\n"
          ]
        }
      ],
      "source": [
        "matrix = np.matrix(\"1 2; 2 3\")\n",
        "w, v = np.linalg.eig(matrix)\n",
        "print(matrix, \"\\n\")\n",
        "print(\"Eigen values:\", w)"
      ]
    },
    {
      "cell_type": "markdown",
      "metadata": {
        "id": "1pfo8-LwkuMi"
      },
      "source": [
        "### How to Calculate the determinant of a matrix using NumPy?"
      ]
    },
    {
      "cell_type": "code",
      "execution_count": null,
      "metadata": {
        "colab": {
          "base_uri": "https://localhost:8080/"
        },
        "id": "OV_0e04zkwfa",
        "outputId": "ef9aa699-d566-49ef-b224-37ae97574c5a"
      },
      "outputs": [
        {
          "output_type": "stream",
          "name": "stdout",
          "text": [
            "[[50 29]\n",
            " [30 44]] \n",
            "\n",
            "Determinant: 1330.0000000000002\n"
          ]
        }
      ],
      "source": [
        "matrix = np.matrix(\"50 29; 30 44\")\n",
        "determinant = np.linalg.det(matrix)\n",
        "\n",
        "print(matrix, \"\\n\")\n",
        "print(\"Determinant:\", determinant)"
      ]
    },
    {
      "cell_type": "markdown",
      "metadata": {
        "id": "qOv68fs-lQ4k"
      },
      "source": [
        "### How to inverse a matrix using NumPy"
      ]
    },
    {
      "cell_type": "code",
      "execution_count": null,
      "metadata": {
        "colab": {
          "base_uri": "https://localhost:8080/"
        },
        "id": "TrJKYkoSlVyK",
        "outputId": "36b7c0d4-5d78-4769-a369-70e7db474e9e"
      },
      "outputs": [
        {
          "output_type": "stream",
          "name": "stdout",
          "text": [
            "[[ 6  1  1]\n",
            " [ 4 -2  5]\n",
            " [ 2  8  7]] \n",
            "\n",
            "Inverse:\n",
            "[[ 0.17647059 -0.00326797 -0.02287582]\n",
            " [ 0.05882353 -0.13071895  0.08496732]\n",
            " [-0.11764706  0.1503268   0.05228758]]\n"
          ]
        }
      ],
      "source": [
        "matrix = np.matrix(\"6 1 1; 4 -2 5; 2 8 7\")\n",
        "inverse = np.linalg.inv(matrix)\n",
        "\n",
        "print(matrix, \"\\n\")\n",
        "print(\"Inverse:\")\n",
        "print(inverse)"
      ]
    },
    {
      "cell_type": "markdown",
      "metadata": {
        "id": "cYapc6MimhOA"
      },
      "source": [
        "### How to count the frequency of unique values in NumPy array?"
      ]
    },
    {
      "cell_type": "code",
      "execution_count": null,
      "metadata": {
        "colab": {
          "base_uri": "https://localhost:8080/"
        },
        "id": "aqYfMTY_mi_F",
        "outputId": "2a8e6f13-3a31-472f-998f-feff69fffb3c"
      },
      "outputs": [
        {
          "output_type": "stream",
          "name": "stdout",
          "text": [
            "Value: 1 | Frequency: 1\n",
            "Value: 2 | Frequency: 2\n",
            "Value: 3 | Frequency: 3\n",
            "Value: 4 | Frequency: 1\n",
            "Value: 5 | Frequency: 1\n",
            "Value: 6 | Frequency: 1\n"
          ]
        }
      ],
      "source": [
        "array = np.array([[1, 2, 2], [3, 3, 5], [4, 6, 3]])\n",
        "unique_values, frequency = np.unique(array, return_counts=True)\n",
        "\n",
        "for i in range (len(frequency)):\n",
        "  print(\"Value:\", unique_values[i], \"| Frequency:\", frequency[i])"
      ]
    },
    {
      "cell_type": "markdown",
      "metadata": {
        "id": "7niPeWS-oN78"
      },
      "source": [
        "### Multiply matrices of complex numbers using NumPy in Python"
      ]
    },
    {
      "cell_type": "code",
      "execution_count": null,
      "metadata": {
        "colab": {
          "base_uri": "https://localhost:8080/"
        },
        "id": "IS7TwGuBoT5x",
        "outputId": "9de59288-0a86-4b13-d954-1702431cd04f"
      },
      "outputs": [
        {
          "output_type": "stream",
          "name": "stdout",
          "text": [
            "[[8. +7.j 5. +6.j]\n",
            " [9.+10.j 1. +2.j]] \n",
            "\n",
            "[[2.+3.j 4.+5.j]\n",
            " [4.+5.j 6.+7.j]] \n",
            "\n",
            "Multiplication: (193+11j)\n"
          ]
        }
      ],
      "source": [
        "matrix_1 = np.array([[8+7j, 5+6j], [9+10j, 1+2j]])\n",
        "matrix_2 = np.array([[2+3j, 4+5j], [4+5j, 6+7j]])\n",
        "\n",
        "multiplication = np.vdot(matrix_1, matrix_2)\n",
        "\n",
        "print(matrix_1, \"\\n\")\n",
        "print(matrix_2, \"\\n\")\n",
        "print(\"Multiplication:\", multiplication)"
      ]
    },
    {
      "cell_type": "markdown",
      "metadata": {
        "id": "V4nBGtSqpJws"
      },
      "source": [
        "### Compute the outer product of two given vectors using NumPy in Python"
      ]
    },
    {
      "cell_type": "code",
      "execution_count": null,
      "metadata": {
        "colab": {
          "base_uri": "https://localhost:8080/"
        },
        "id": "hbqSAZmJpXn5",
        "outputId": "38c0b4e0-9015-4be3-9ef0-9112ed500744"
      },
      "outputs": [
        {
          "output_type": "stream",
          "name": "stdout",
          "text": [
            "[[1 3]\n",
            " [2 6]] \n",
            "\n",
            "[[0 1]\n",
            " [1 9]] \n",
            "\n",
            "Outer product:\n",
            "[[ 0  1  1  9]\n",
            " [ 0  3  3 27]\n",
            " [ 0  2  2 18]\n",
            " [ 0  6  6 54]]\n"
          ]
        }
      ],
      "source": [
        "vector_1 = np.array([[1, 3], [2, 6]])\n",
        "vector_2 = np.array([[0, 1], [1, 9]])\n",
        "\n",
        "outer_product = np.outer(vector_1, vector_2)\n",
        "print(vector_1, \"\\n\")\n",
        "print(vector_2, \"\\n\")\n",
        "print(\"Outer product:\")\n",
        "print(outer_product)"
      ]
    },
    {
      "cell_type": "markdown",
      "metadata": {
        "id": "r_o3n_1kqKux"
      },
      "source": [
        "### Calculate inner, outer, and cross products of matrices and vectors using NumPy"
      ]
    },
    {
      "cell_type": "code",
      "execution_count": null,
      "metadata": {
        "colab": {
          "base_uri": "https://localhost:8080/"
        },
        "id": "E83WtavLqQVG",
        "outputId": "f953c26c-b42e-411a-a239-6eeb0cad8f23"
      },
      "outputs": [
        {
          "output_type": "stream",
          "name": "stdout",
          "text": [
            "[[2 3 4]\n",
            " [3 2 9]] \n",
            "\n",
            "[[ 1  5  0]\n",
            " [ 5 10  3]] \n",
            "\n",
            "Inner product:\n",
            "[[17 52]\n",
            " [13 62]] \n",
            "\n",
            "Outer product:\n",
            "[[ 2 10  0 10 20  6]\n",
            " [ 3 15  0 15 30  9]\n",
            " [ 4 20  0 20 40 12]\n",
            " [ 3 15  0 15 30  9]\n",
            " [ 2 10  0 10 20  6]\n",
            " [ 9 45  0 45 90 27]] \n",
            "\n",
            "Cross product:\n",
            "[[-20   4   7]\n",
            " [-84  36  20]]\n"
          ]
        }
      ],
      "source": [
        "matrix_1 = np.array([[2, 3, 4], [3, 2, 9]])\n",
        "matrix_2 = np.array([[1, 5, 0], [5, 10, 3]])\n",
        "\n",
        "inner_product = np.inner(matrix_1, matrix_2)\n",
        "outer_product = np.outer(matrix_1, matrix_2)\n",
        "cross_product = np.cross(matrix_1, matrix_2)\n",
        "\n",
        "print(matrix_1, \"\\n\")\n",
        "print(matrix_2, \"\\n\")\n",
        "\n",
        "print(\"Inner product:\")\n",
        "print(inner_product, \"\\n\")\n",
        "\n",
        "print(\"Outer product:\")\n",
        "print(outer_product, \"\\n\")\n",
        "\n",
        "print(\"Cross product:\")\n",
        "print(cross_product)"
      ]
    },
    {
      "cell_type": "markdown",
      "metadata": {
        "id": "LNOa85YardSq"
      },
      "source": [
        "### Compute the covariance matrix of two given NumPy arrays"
      ]
    },
    {
      "cell_type": "code",
      "execution_count": null,
      "metadata": {
        "colab": {
          "base_uri": "https://localhost:8080/"
        },
        "id": "BvDnLVOnre44",
        "outputId": "680fa1a8-7a5a-4151-ef5e-460be2e0e984"
      },
      "outputs": [
        {
          "output_type": "stream",
          "name": "stdout",
          "text": [
            "[0 1 1] \n",
            "\n",
            "[2 2 1] \n",
            "\n",
            "Covariance matrix: \n",
            " [[ 0.33333333 -0.16666667]\n",
            " [-0.16666667  0.33333333]]\n"
          ]
        }
      ],
      "source": [
        "array_1 = np.array([0, 1, 1])\n",
        "array_2 = np.array([2, 2, 1])\n",
        "\n",
        "covariance_matrix = np.cov(array_1, array_2)\n",
        "\n",
        "print(array_1, \"\\n\")\n",
        "print(array_2, \"\\n\")\n",
        "\n",
        "print(\"Covariance matrix: \\n\", covariance_matrix)"
      ]
    },
    {
      "cell_type": "markdown",
      "metadata": {
        "id": "hS8eFEvnsGtL"
      },
      "source": [
        "### Convert covariance matrix to correlation matrix using Python"
      ]
    },
    {
      "cell_type": "code",
      "execution_count": null,
      "metadata": {
        "colab": {
          "base_uri": "https://localhost:8080/"
        },
        "id": "t_qIJjthsMXj",
        "outputId": "19394a95-30e7-4947-9b07-67bc86120fa4"
      },
      "outputs": [
        {
          "output_type": "stream",
          "name": "stdout",
          "text": [
            "[0 1 1] \n",
            "\n",
            "[2 2 1] \n",
            "\n",
            "Covariance matrix: \n",
            " [[ 0.33333333 -0.16666667]\n",
            " [-0.16666667  0.33333333]] \n",
            "\n",
            "Correlation matrix: \n",
            " [[ 1.  -0.5]\n",
            " [-0.5  1. ]]\n"
          ]
        }
      ],
      "source": [
        "def covariance_to_correlation(covariance_matrix):\n",
        "  v = np.sqrt(np.diag(covariance_matrix))\n",
        "  v_outer = np.outer(v, v)\n",
        "  correlation = covariance_matrix / v_outer\n",
        "  correlation[covariance_matrix == 0] = 0\n",
        "  return correlation\n",
        "\n",
        "array_1 = np.array([0, 1, 1])\n",
        "array_2 = np.array([2, 2, 1])\n",
        "\n",
        "covariance_matrix = np.cov(array_1, array_2)\n",
        "correlation_matrix = covariance_to_correlation(covariance_matrix)\n",
        "\n",
        "print(array_1, \"\\n\")\n",
        "print(array_2, \"\\n\")\n",
        "\n",
        "print(\"Covariance matrix: \\n\", covariance_matrix, \"\\n\")\n",
        "print(\"Correlation matrix: \\n\", correlation_matrix)"
      ]
    },
    {
      "cell_type": "markdown",
      "metadata": {
        "id": "-VH_rUELt2W8"
      },
      "source": [
        "### Compute the Kronecker product of two mulitdimension NumPy arrays"
      ]
    },
    {
      "cell_type": "code",
      "execution_count": null,
      "metadata": {
        "colab": {
          "base_uri": "https://localhost:8080/"
        },
        "id": "N4bTrA8ft4Si",
        "outputId": "34d053da-963f-4151-aa7c-cb232592d7c8"
      },
      "outputs": [
        {
          "output_type": "stream",
          "name": "stdout",
          "text": [
            "[[1 2]\n",
            " [3 4]] \n",
            "\n",
            "[[5 6]\n",
            " [7 8]] \n",
            "\n",
            "Kronecker product: \n",
            " [[ 5  6 10 12]\n",
            " [ 7  8 14 16]\n",
            " [15 18 20 24]\n",
            " [21 24 28 32]]\n"
          ]
        }
      ],
      "source": [
        "array_1 = np.array([[1, 2], [3, 4]])\n",
        "array_2 = np.array([[5, 6], [7, 8]])\n",
        "\n",
        "kronecker_product = np.kron(array_1, array_2)\n",
        "\n",
        "print(array_1, \"\\n\")\n",
        "print(array_2, \"\\n\")\n",
        "print(\"Kronecker product: \\n\", kronecker_product)"
      ]
    },
    {
      "cell_type": "markdown",
      "metadata": {
        "id": "moTM5u2budge"
      },
      "source": [
        "### Convert the matrix into a list"
      ]
    },
    {
      "cell_type": "code",
      "execution_count": null,
      "metadata": {
        "colab": {
          "base_uri": "https://localhost:8080/"
        },
        "id": "T4YqmiHPuh2c",
        "outputId": "67fc28bb-47e0-4dba-839e-cad0cc0c1557"
      },
      "outputs": [
        {
          "output_type": "stream",
          "name": "stdout",
          "text": [
            "[[1 4 7]\n",
            " [3 4 1]\n",
            " [9 8 3]] \n",
            "\n",
            "[[1, 4, 7], [3, 4, 1], [9, 8, 3]]\n"
          ]
        }
      ],
      "source": [
        "matrix = np.matrix(\"1 4 7; 3 4 1; 9 8 3\")\n",
        "converted = matrix.tolist()\n",
        "\n",
        "print(matrix, \"\\n\")\n",
        "print(converted)"
      ]
    },
    {
      "cell_type": "markdown",
      "metadata": {
        "id": "AUBiQnjdNEea"
      },
      "source": [
        "# Questions on NumPy Indexing"
      ]
    },
    {
      "cell_type": "markdown",
      "metadata": {
        "id": "hbmfAqfkNbM3"
      },
      "source": [
        "### Replace NumPy array elements that doesn’t satisfy the given condition"
      ]
    },
    {
      "cell_type": "code",
      "execution_count": null,
      "metadata": {
        "colab": {
          "base_uri": "https://localhost:8080/"
        },
        "id": "qfnW0FODNhGd",
        "outputId": "348ef2ba-e3b2-4ffb-c3d9-81dcbc8e8ed2"
      },
      "outputs": [
        {
          "output_type": "stream",
          "name": "stdout",
          "text": [
            "[ 1  2  3  4  5  6  7  8  9 10]\n",
            "[ 0  2  0  4  0  6  0  8  0 10]\n"
          ]
        }
      ],
      "source": [
        "array = np.arange(1, 11)\n",
        "print(array)\n",
        "\n",
        "condition = array % 2 != 0\n",
        "array[condition] = 0\n",
        "\n",
        "print(array)"
      ]
    },
    {
      "cell_type": "markdown",
      "metadata": {
        "id": "sLnSAWd9PN0M"
      },
      "source": [
        "### Return the indices of elements where the given condition is satisfied"
      ]
    },
    {
      "cell_type": "code",
      "execution_count": null,
      "metadata": {
        "colab": {
          "base_uri": "https://localhost:8080/"
        },
        "id": "NxUuSN-PPR0V",
        "outputId": "52949829-89a8-4e63-bdd6-16fdb2da7f70"
      },
      "outputs": [
        {
          "output_type": "stream",
          "name": "stdout",
          "text": [
            "[ 0  1  2  3  4  5  6  7  8  9 10]\n",
            "Even numbers indexes: (array([ 0,  2,  4,  6,  8, 10]),)\n"
          ]
        }
      ],
      "source": [
        "array = np.arange(0, 11)\n",
        "evens_indexes = np.where(array % 2 == 0)\n",
        "\n",
        "print(array)\n",
        "print(\"Even numbers indexes:\", evens_indexes)"
      ]
    },
    {
      "cell_type": "markdown",
      "metadata": {
        "id": "rgUiiNc-Qvyx"
      },
      "source": [
        "### Replace NaN values with average of columns"
      ]
    },
    {
      "cell_type": "code",
      "execution_count": null,
      "metadata": {
        "colab": {
          "base_uri": "https://localhost:8080/"
        },
        "id": "yZL6vONDRFIY",
        "outputId": "422fea87-02d5-4a5f-caac-a759610a5e39"
      },
      "outputs": [
        {
          "output_type": "stream",
          "name": "stdout",
          "text": [
            "[[1.3 2.5 3.6 nan]\n",
            " [2.6 3.3 nan 5.5]\n",
            " [2.1 3.2 5.4 6.5]] \n",
            "\n",
            "[[1.3 2.5 3.6 6. ]\n",
            " [2.6 3.3 4.5 5.5]\n",
            " [2.1 3.2 5.4 6.5]]\n"
          ]
        }
      ],
      "source": [
        "array = np.array([[1.3, 2.5, 3.6, np.nan], \n",
        "                  [2.6, 3.3, np.nan, 5.5],\n",
        "                  [2.1, 3.2, 5.4, 6.5]])\n",
        "\n",
        "print(array, \"\\n\")\n",
        "\n",
        "columns_average = np.nanmean(array, axis = 0)\n",
        "nan_indexes = np.where(np.isnan(array))\n",
        "array[nan_indexes] = np.take(columns_average, nan_indexes[1])\n",
        "\n",
        "print(array)"
      ]
    },
    {
      "cell_type": "markdown",
      "metadata": {
        "id": "3IzbFTl9Txbh"
      },
      "source": [
        "### Replace negative value with zero in numpy array"
      ]
    },
    {
      "cell_type": "code",
      "execution_count": null,
      "metadata": {
        "colab": {
          "base_uri": "https://localhost:8080/"
        },
        "id": "LxULJcrxUt1X",
        "outputId": "2284b11b-a09c-4622-90d7-0e7f8e758cee"
      },
      "outputs": [
        {
          "output_type": "stream",
          "name": "stdout",
          "text": [
            "[  1   2  -3   4   5  -6  -7 -20  20   4 -15]\n",
            "[ 1  2  0  4  5  0  0  0 20  4  0]\n"
          ]
        }
      ],
      "source": [
        "array = np.array([1, 2, -3, 4, 5, -6, -7, -20, 20, 4, -15])\n",
        "print(array)\n",
        "array[array < 0] = 0\n",
        "print(array)"
      ]
    },
    {
      "cell_type": "markdown",
      "metadata": {
        "id": "v2xc4HpeWR4T"
      },
      "source": [
        "### How to get values of an NumPy array at certain index positions?"
      ]
    },
    {
      "cell_type": "code",
      "execution_count": null,
      "metadata": {
        "colab": {
          "base_uri": "https://localhost:8080/"
        },
        "id": "48K7druxWWDd",
        "outputId": "27bc940b-01b4-4ba2-eaf3-7e08dec62169"
      },
      "outputs": [
        {
          "output_type": "stream",
          "name": "stdout",
          "text": [
            "[ 0  1  2  3  4  5  6  7  8  9 10] \n",
            "\n",
            "[1 2 5 7]\n"
          ]
        }
      ],
      "source": [
        "array = np.arange(0, 11)\n",
        "index_positions = [1, 2, 5, 7]\n",
        "\n",
        "print(array, \"\\n\")\n",
        "print(array[index_positions])"
      ]
    },
    {
      "cell_type": "markdown",
      "metadata": {
        "id": "nUCrYrolXXVX"
      },
      "source": [
        "### Find indices of elements equal to zero in a NumPy array"
      ]
    },
    {
      "cell_type": "code",
      "execution_count": null,
      "metadata": {
        "colab": {
          "base_uri": "https://localhost:8080/"
        },
        "id": "_e9FKM1oYEeN",
        "outputId": "b704960c-6882-4bca-fd15-7765e95cc5db"
      },
      "outputs": [
        {
          "output_type": "stream",
          "name": "stdout",
          "text": [
            "[ 1  0  3  0 15  0  9  0  0  0  8  0 87] \n",
            "\n",
            "Indexes of the elements equal to zero: [ 1  3  5  7  8  9 11]\n"
          ]
        }
      ],
      "source": [
        "array = np.array([1, 0, 3, 0, 15, 0, 9, 0, 0, 0, 8, 0, 87])\n",
        "zero_indexes = np.where(array == 0)[0]\n",
        "\n",
        "print(array, \"\\n\")\n",
        "print(\"Indexes of the elements equal to zero:\", zero_indexes)"
      ]
    },
    {
      "cell_type": "markdown",
      "metadata": {
        "id": "TTxMoc8sc0Cs"
      },
      "source": [
        "### How to Remove columns in Numpy array that contains non-numeric values?"
      ]
    },
    {
      "cell_type": "code",
      "execution_count": null,
      "metadata": {
        "colab": {
          "base_uri": "https://localhost:8080/"
        },
        "id": "gIuf1D8Djx-4",
        "outputId": "14bacb4f-ca5e-4ade-e534-760670a4a23a"
      },
      "outputs": [
        {
          "output_type": "stream",
          "name": "stdout",
          "text": [
            "[[ 1.  2.  3. 55.]\n",
            " [ 4. nan  6. 87.]\n",
            " [ 7.  8.  9. 15.]\n",
            " [nan 11. 12. 10.]] \n",
            "\n",
            "[[ 3. 55.]\n",
            " [ 6. 87.]\n",
            " [ 9. 15.]\n",
            " [12. 10.]]\n"
          ]
        }
      ],
      "source": [
        "array = np.array([[1, 2, 3, 55], [4, np.nan, 6, 87], [7, 8, 9, 15], [np.nan, 11, 12, 10]])\n",
        "without_nan = array[:, ~np.isnan(array).any(axis=0)]\n",
        "\n",
        "print(array, \"\\n\")\n",
        "print(without_nan)"
      ]
    },
    {
      "cell_type": "markdown",
      "metadata": {
        "id": "75lIJdPfkyGL"
      },
      "source": [
        "### How to access different rows of a multidimensional NumPy array?"
      ]
    },
    {
      "cell_type": "code",
      "execution_count": null,
      "metadata": {
        "colab": {
          "base_uri": "https://localhost:8080/"
        },
        "id": "dvhAOGNgkz8X",
        "outputId": "49d51b03-2a25-4363-f91c-f2c37a6db28e"
      },
      "outputs": [
        {
          "output_type": "stream",
          "name": "stdout",
          "text": [
            "[[ 1  3 10  4]\n",
            " [ 4 15  6  7]\n",
            " [ 8  9 81 31]\n",
            " [14  9 90 11]] \n",
            "\n",
            "[[ 4 15  6  7]\n",
            " [14  9 90 11]]\n"
          ]
        }
      ],
      "source": [
        "array = np.array([[1, 3, 10, 4], [4, 15, 6, 7], [8, 9, 81, 31], [14, 9, 90, 11]])\n",
        "acessed_rows = array[[1, 3]]\n",
        "\n",
        "print(array, \"\\n\")\n",
        "print(acessed_rows)"
      ]
    },
    {
      "cell_type": "markdown",
      "metadata": {
        "id": "jXSGyZsSl6rw"
      },
      "source": [
        "### Get row numbers of NumPy array having element larger than X"
      ]
    },
    {
      "cell_type": "code",
      "execution_count": null,
      "metadata": {
        "colab": {
          "base_uri": "https://localhost:8080/"
        },
        "id": "U8H-KTD0l_c9",
        "outputId": "e532f3f3-4133-498f-9b4f-798c153a982e"
      },
      "outputs": [
        {
          "output_type": "stream",
          "name": "stdout",
          "text": [
            "[[ 1  3 10  4]\n",
            " [ 4 15  6  7]\n",
            " [ 8  9 81 31]\n",
            " [14  9 90 11]] \n",
            "\n",
            "(array([2, 3]),)\n"
          ]
        }
      ],
      "source": [
        "array = np.array([[1, 3, 10, 4], [4, 15, 6, 7], [8, 9, 81, 31], [14, 9, 90, 11]])\n",
        "x = 30\n",
        "matching_rows = np.where(np.any(array > x, axis = 1))\n",
        "\n",
        "print(array, \"\\n\")\n",
        "print(matching_rows)"
      ]
    },
    {
      "cell_type": "markdown",
      "metadata": {
        "id": "ZePoBZdSnAXW"
      },
      "source": [
        "### Get filled the diagonals of NumPy array"
      ]
    },
    {
      "cell_type": "code",
      "execution_count": null,
      "metadata": {
        "colab": {
          "base_uri": "https://localhost:8080/"
        },
        "id": "882cslUrnD8H",
        "outputId": "22ce66f9-dbb8-4f16-e918-3d8dba5ed13d"
      },
      "outputs": [
        {
          "output_type": "stream",
          "name": "stdout",
          "text": [
            "[[1 2 3]\n",
            " [4 5 6]\n",
            " [7 8 9]] \n",
            "\n",
            "[[0 2 3]\n",
            " [4 0 6]\n",
            " [7 8 0]]\n"
          ]
        }
      ],
      "source": [
        "array = np.array([[1, 2, 3], [4, 5, 6], [7, 8, 9]])\n",
        "print(array, \"\\n\")\n",
        "\n",
        "np.fill_diagonal(array, 0)\n",
        "print(array)"
      ]
    },
    {
      "cell_type": "markdown",
      "metadata": {
        "id": "_kL4-mJmnm0r"
      },
      "source": [
        "### Check elements present in the NumPy array"
      ]
    },
    {
      "cell_type": "code",
      "execution_count": null,
      "metadata": {
        "colab": {
          "base_uri": "https://localhost:8080/"
        },
        "id": "aLwYzDWAn66e",
        "outputId": "f867c24c-e7e7-48e8-bfa1-56fc53e41659"
      },
      "outputs": [
        {
          "output_type": "stream",
          "name": "stdout",
          "text": [
            "[[1 2 3 4]\n",
            " [5 6 7 8]] \n",
            "\n",
            "2\n",
            "True \n",
            "\n",
            "5\n",
            "True \n",
            "\n",
            "9\n",
            "False\n"
          ]
        }
      ],
      "source": [
        "def in_array(value, array):\n",
        "  print(value)\n",
        "  return value in array\n",
        "\n",
        "array = np.array([[1, 2, 3, 4], [5, 6, 7, 8]])\n",
        "print(array, \"\\n\")\n",
        "print(in_array(2, array), \"\\n\")\n",
        "print(in_array(5, array), \"\\n\")\n",
        "print(in_array(9, array))"
      ]
    },
    {
      "cell_type": "markdown",
      "metadata": {
        "id": "l8W3OoUYn_qE"
      },
      "source": [
        "### Combined array index by index"
      ]
    },
    {
      "cell_type": "code",
      "execution_count": null,
      "metadata": {
        "colab": {
          "base_uri": "https://localhost:8080/"
        },
        "id": "w4VLFkPCoBLn",
        "outputId": "6be08064-836e-46a2-f3d2-1ad5107d35ff"
      },
      "outputs": [
        {
          "output_type": "stream",
          "name": "stdout",
          "text": [
            "[[1 2 3]\n",
            " [4 5 6]] \n",
            "\n",
            "[[ 7  8  9]\n",
            " [10 11 12]] \n",
            "\n",
            "[[ 1  7  2]\n",
            " [ 8  3  9]\n",
            " [ 4 10  5]\n",
            " [11  6 12]]\n"
          ]
        }
      ],
      "source": [
        "array_1 = np.array([[1, 2, 3], [4, 5, 6]])\n",
        "array_2 = np.array([[7, 8, 9], [10, 11, 12]])\n",
        "\n",
        "result = np.stack((array_1, array_2), axis = 2).reshape(4, 3)\n",
        "\n",
        "print(array_1, \"\\n\")\n",
        "print(array_2, \"\\n\")\n",
        "print(result)"
      ]
    },
    {
      "cell_type": "markdown",
      "metadata": {
        "id": "yd-UZHe1qMZm"
      },
      "source": [
        "# Questions on NumPy Linear Algebra"
      ]
    },
    {
      "cell_type": "markdown",
      "metadata": {
        "id": "PwFSVU15qO0j"
      },
      "source": [
        "### Find a matrix or vector norm using NumPy"
      ]
    },
    {
      "cell_type": "code",
      "execution_count": null,
      "metadata": {
        "colab": {
          "base_uri": "https://localhost:8080/"
        },
        "id": "B_Xk7RqtqWR4",
        "outputId": "7edf3acc-df50-452c-bc3b-4c17f9154786"
      },
      "outputs": [
        {
          "output_type": "stream",
          "name": "stdout",
          "text": [
            "[[1 2 3]\n",
            " [4 5 6]] \n",
            "\n",
            "Norm: 9.539392014169456\n"
          ]
        }
      ],
      "source": [
        "matrix = np.array([[1, 2, 3], [4, 5, 6]])\n",
        "norm = np.linalg.norm(matrix)\n",
        "print(matrix, \"\\n\")\n",
        "print(\"Norm:\", norm)"
      ]
    },
    {
      "cell_type": "markdown",
      "metadata": {
        "id": "LVsXSB1YrDZ-"
      },
      "source": [
        "### Calculate the QR decomposition of a given matrix using NumPy"
      ]
    },
    {
      "cell_type": "code",
      "execution_count": null,
      "metadata": {
        "colab": {
          "base_uri": "https://localhost:8080/"
        },
        "id": "ArVgQOeerF5B",
        "outputId": "30bcf18e-c5ac-4bf6-be4d-ac37a31f8c51"
      },
      "outputs": [
        {
          "output_type": "stream",
          "name": "stdout",
          "text": [
            "[[1 2 3]\n",
            " [4 5 6]] \n",
            "\n",
            "Q:\n",
            " [[-0.24253563 -0.9701425 ]\n",
            " [-0.9701425   0.24253563]] \n",
            "\n",
            "R:\n",
            " [[-4.12310563 -5.33578375 -6.54846188]\n",
            " [ 0.         -0.72760688 -1.45521375]]\n"
          ]
        }
      ],
      "source": [
        "matrix = np.array([[1, 2, 3], [4, 5, 6]])\n",
        "q, r = np.linalg.qr(matrix)\n",
        "\n",
        "print(matrix, \"\\n\")\n",
        "print(\"Q:\\n\", q, \"\\n\")\n",
        "print(\"R:\\n\", r)"
      ]
    },
    {
      "cell_type": "markdown",
      "metadata": {
        "id": "F0thKdIUriib"
      },
      "source": [
        "### Compute the condition number of a given matrix using NumPy"
      ]
    },
    {
      "cell_type": "code",
      "execution_count": null,
      "metadata": {
        "colab": {
          "base_uri": "https://localhost:8080/"
        },
        "id": "0PCUW50rrldS",
        "outputId": "e689bc85-9672-4582-8df6-b17847c83c5c"
      },
      "outputs": [
        {
          "output_type": "stream",
          "name": "stdout",
          "text": [
            "[[1 2 3]\n",
            " [4 5 6]] \n",
            "\n",
            "12.302245504069202\n"
          ]
        }
      ],
      "source": [
        "matrix = np.array([[1, 2, 3], [4, 5, 6]])\n",
        "condition_number = np.linalg.cond(matrix)\n",
        "\n",
        "print(matrix, \"\\n\")\n",
        "print(condition_number)"
      ]
    },
    {
      "cell_type": "markdown",
      "metadata": {
        "id": "iuLsOIVmr_M_"
      },
      "source": [
        "### Compute the eigenvalues and right eigenvectors of a given square array using NumPy?"
      ]
    },
    {
      "cell_type": "code",
      "execution_count": null,
      "metadata": {
        "colab": {
          "base_uri": "https://localhost:8080/"
        },
        "id": "Ur1HGau5sJfl",
        "outputId": "9ff89130-fd7b-4a38-acdd-87b64c32ef30"
      },
      "outputs": [
        {
          "output_type": "stream",
          "name": "stdout",
          "text": [
            "[[1 2]\n",
            " [3 4]] \n",
            "\n",
            "Eigenvalues: [-0.37228132  5.37228132] \n",
            "\n",
            "Eigenvectors:\n",
            " [[-0.82456484 -0.41597356]\n",
            " [ 0.56576746 -0.90937671]]\n"
          ]
        }
      ],
      "source": [
        "matrix = np.array([[1, 2], [3, 4]])\n",
        "\n",
        "w, v = np.linalg.eig(matrix)\n",
        "\n",
        "print(matrix, \"\\n\")\n",
        "print(\"Eigenvalues:\", w, \"\\n\")\n",
        "print(\"Eigenvectors:\\n\", v)"
      ]
    },
    {
      "cell_type": "markdown",
      "metadata": {
        "id": "QQvwCnDLs0J1"
      },
      "source": [
        "### Calculate the Euclidean distance using NumPy"
      ]
    },
    {
      "cell_type": "code",
      "execution_count": null,
      "metadata": {
        "colab": {
          "base_uri": "https://localhost:8080/"
        },
        "id": "6kiPG0Q1s3NL",
        "outputId": "49b59b8e-f93e-487b-94c3-639478e3a7f6"
      },
      "outputs": [
        {
          "output_type": "stream",
          "name": "stdout",
          "text": [
            "Point 1: [1 2 3]\n",
            "Point 2: [1 1 1]\n",
            "Euclidean distance: 2.23606797749979\n"
          ]
        }
      ],
      "source": [
        "point_1 = np.array((1, 2, 3))\n",
        "point_2 = np.array((1, 1, 1))\n",
        "\n",
        "euclidean_distance = np.linalg.norm(point_1 - point_2)\n",
        "\n",
        "print(\"Point 1:\", point_1)\n",
        "print(\"Point 2:\", point_2)\n",
        "print(\"Euclidean distance:\", euclidean_distance)"
      ]
    },
    {
      "cell_type": "markdown",
      "metadata": {
        "id": "kAQEDQi7OAVn"
      },
      "source": [
        "# Questions on NumPy Random"
      ]
    },
    {
      "cell_type": "markdown",
      "metadata": {
        "id": "C_Y9FK7_ODqs"
      },
      "source": [
        "### Create a Numpy array with random values"
      ]
    },
    {
      "cell_type": "code",
      "execution_count": null,
      "metadata": {
        "colab": {
          "base_uri": "https://localhost:8080/"
        },
        "id": "hOfDaksdOHih",
        "outputId": "93fef982-2184-4e4d-f5f0-3095a0ad7ade"
      },
      "outputs": [
        {
          "output_type": "stream",
          "name": "stdout",
          "text": [
            "[[0.03170794 0.5954598 ]\n",
            " [0.10111557 0.27338742]\n",
            " [0.81939225 0.87384966]]\n"
          ]
        }
      ],
      "source": [
        "array = np.random.rand(3, 2)\n",
        "print(array)"
      ]
    },
    {
      "cell_type": "markdown",
      "metadata": {
        "id": "sl15T5w8QPnQ"
      },
      "source": [
        "### How to choose elements from the list with different probability using NumPy?"
      ]
    },
    {
      "cell_type": "code",
      "execution_count": null,
      "metadata": {
        "colab": {
          "base_uri": "https://localhost:8080/"
        },
        "id": "N_KXB1_VQRy3",
        "outputId": "b95357e0-6708-4906-86e6-cc41e5fae0f5"
      },
      "outputs": [
        {
          "output_type": "stream",
          "name": "stdout",
          "text": [
            "['Apple', 'Orange', 'Banana', 'Pineapple', 'Watermelon', 'Mango'] \n",
            "\n",
            "['Apple' 'Apple' 'Watermelon']\n"
          ]
        }
      ],
      "source": [
        "fruit_list = [\"Apple\", \"Orange\", \"Banana\", \"Pineapple\", \"Watermelon\", \"Mango\"]\n",
        "number_of_elements = 3\n",
        "probabilities = [0.1, 0.4, 0.2, 0.0, 0.1, 0.2]\n",
        "\n",
        "chosen_elements = np.random.choice(fruit_list, number_of_elements, p = probabilities)\n",
        "\n",
        "print(fruit_list, \"\\n\")\n",
        "print(chosen_elements)"
      ]
    },
    {
      "cell_type": "markdown",
      "metadata": {
        "id": "Tv49c0S3SIU4"
      },
      "source": [
        "### How to get weighted random choice in Python?"
      ]
    },
    {
      "cell_type": "code",
      "execution_count": null,
      "metadata": {
        "colab": {
          "base_uri": "https://localhost:8080/"
        },
        "id": "5PluATzFSgvt",
        "outputId": "9c3c74e3-afc1-4a49-9e9d-e747c5701232"
      },
      "outputs": [
        {
          "output_type": "stream",
          "name": "stdout",
          "text": [
            "['Apple', 'Orange', 'Banana', 'Pineapple', 'Watermelon', 'Mango'] \n",
            "\n",
            "['Mango' 'Orange' 'Mango']\n"
          ]
        }
      ],
      "source": [
        "fruit_list = [\"Apple\", \"Orange\", \"Banana\", \"Pineapple\", \"Watermelon\", \"Mango\"]\n",
        "number_of_elements = 3\n",
        "probabilities = [0.1, 0.4, 0.2, 0.0, 0.1, 0.2]\n",
        "\n",
        "chosen_elements = np.random.choice(fruit_list, number_of_elements, p = probabilities)\n",
        "\n",
        "print(fruit_list, \"\\n\")\n",
        "print(chosen_elements)"
      ]
    },
    {
      "cell_type": "markdown",
      "metadata": {
        "id": "0me945SeSi0U"
      },
      "source": [
        "### Generate Random Numbers From The Uniform Distribution using NumPy"
      ]
    },
    {
      "cell_type": "code",
      "execution_count": null,
      "metadata": {
        "colab": {
          "base_uri": "https://localhost:8080/"
        },
        "id": "eqIsKSTTSp7y",
        "outputId": "b1f9a5ae-30dc-47a1-d083-3a826c1a256e"
      },
      "outputs": [
        {
          "output_type": "stream",
          "name": "stdout",
          "text": [
            "[0.06802147 0.15405489 0.18568421 0.50724777 0.15162115]\n"
          ]
        }
      ],
      "source": [
        "numbers = np.random.uniform(size = 5)\n",
        "print(numbers)"
      ]
    },
    {
      "cell_type": "markdown",
      "metadata": {
        "id": "nOLtEyrVS8Eo"
      },
      "source": [
        "### Get Random Elements from geometric distribution"
      ]
    },
    {
      "cell_type": "code",
      "execution_count": null,
      "metadata": {
        "colab": {
          "base_uri": "https://localhost:8080/",
          "height": 751
        },
        "id": "vpFoX1VES-Ok",
        "outputId": "fc489949-3cd0-4b2f-b18c-5c2497727ca3"
      },
      "outputs": [
        {
          "output_type": "stream",
          "name": "stdout",
          "text": [
            "[2 1 1 1 1 1 1 2 1 2 1 1 1 1 1 2 1 1 1 1 1 2 1 2 1 1 1 1 1 1 2 2 1 2 1 2 1\n",
            " 1 1 1 1 3 1 2 1 1 1 2 1 1 1 1 1 1 1 1 1 1 3 1 2 1 1 1 1 1 1 1 2 2 1 1 2 1\n",
            " 2 1 1 1 1 1 2 1 1 1 1 1 2 1 2 1 1 1 3 1 1 1 1 1 2 1 2 1 1 1 1 1 1 1 1 1 2\n",
            " 1 1 1 1 1 1 1 1 1 1 1 1 1 1 1 1 1 1 1 1 2 1 2 1 1 2 1 1 3 1 2 1 1 3 2 1 3\n",
            " 2 3 1 1 1 1 1 1 1 1 3 1 2 1 3 1 2 1 1 1 1 1 1 1 3 1 2 1 1 3 2 1 1 1 2 1 1\n",
            " 1 1 2 2 1 1 2 1 2 1 1 1 1 1 1 1 2 1 3 1 1 1 2 1 1 1 2 1 1 1 2 1 1 1 2 1 1\n",
            " 1 1 1 1 1 3 1 1 1 1 2 1 1 1 2 1 2 1 1 2 1 1 1 4 1 1 1 1 1 1 2 1 1 3 1 1 1\n",
            " 1 1 1 1 1 1 1 2 1 1 1 2 1 1 1 1 1 2 2 1 1 1 1 1 1 2 1 1 1 1 3 1 2 1 1 1 3\n",
            " 2 1 1 1 1 2 1 1 1 1 1 2 1 1 1 1 1 1 1 2 1 1 1 1 2 2 1 1 1 1 1 2 1 1 1 1 1\n",
            " 1 1 1 2 1 1 1 1 1 2 1 1 1 1 1 1 1 1 1 1 1 1 1 1 1 2 1 1 1 2 2 4 1 7 1 1 1\n",
            " 1 1 1 1 1 4 1 1 1 2 1 1 1 1 1 1 1 1 1 2 2 2 2 1 1 3 2 1 3 1 2 1 1 1 1 1 1\n",
            " 1 1 2 3 1 1 2 1 1 1 1 1 1 1 2 2 1 1 3 1 1 1 2 1 1 1 1 1 1 1 1 1 1 1 2 1 1\n",
            " 2 4 1 1 1 1 1 1 1 1 1 1 1 4 2 1 1 1 1 1 2 1 1 1 1 1 2 1 2 1 1 1 1 3 1 8 1\n",
            " 1 1 1 1 1 1 1 1 1 4 1 1 1 1 1 2 1 1 1 1 1 2 1 1 1 1 1 1 1 1 2 1 1 3 2 2 1\n",
            " 1 1 1 1 1 1 1 1 1 1 1 1 1 3 1 1 2 1 1 1 1 1 1 1 3 1 2 2 1 1 1 2 2 6 1 1 1\n",
            " 2 1 1 1 1 1 1 2 2 1 1 1 1 1 1 2 1 1 2 1 1 1 2 1 2 1 2 2 1 1 1 2 1 1 4 1 3\n",
            " 1 1 1 1 1 1 1 1 1 2 1 1 2 1 3 1 1 2 1 1 1 1 1 2 1 1 1 1 1 1 1 1 2 1 1 2 1\n",
            " 1 1 1 1 1 1 2 1 1 1 1 1 1 1 1 1 1 2 1 1 1 1 2 1 2 2 1 4 1 1 1 2 2 1 1 1 2\n",
            " 2 1 1 3 1 1 3 1 1 1 1 2 1 1 1 1 1 1 2 1 1 1 1 3 3 1 1 1 1 1 1 1 1 1 2 1 1\n",
            " 1 1 3 1 2 1 1 1 1 1 1 1 1 3 1 1 1 1 1 3 1 1 2 2 2 1 1 1 1 3 1 1 1 1 1 1 1\n",
            " 1 1 2 1 1 1 1 1 3 1 2 2 1 1 1 2 1 1 1 1 1 1 1 1 2 1 1 2 1 2 1 1 3 1 1 1 1\n",
            " 1 1 1 1 1 1 1 1 1 1 1 1 1 1 1 1 1 1 2 1 1 1 1 1 2 1 3 1 1 3 1 1 1 2 1 1 1\n",
            " 1 2 1 1 1 1 2 1 1 2 1 1 1 3 1 1 1 1 2 1 1 1 1 1 1 2 1 1 2 1 1 1 2 1 2 1 1\n",
            " 1 1 1 1 1 1 1 1 1 1 1 2 1 1 1 1 2 2 1 1 1 2 1 1 2 1 2 1 2 1 1 1 1 3 1 1 1\n",
            " 1 2 1 1 1 1 1 1 1 1 1 1 2 1 1 2 1 2 1 1 1 1 1 1 1 1 1 3 2 1 2 1 2 1 1 1 1\n",
            " 1 1 2 1 1 1 2 1 1 1 1 1 1 1 1 1 1 1 1 1 1 2 1 1 1 1 1 1 1 1 1 1 2 1 1 1 1\n",
            " 1 1 1 2 1 1 1 3 1 1 1 3 2 1 2 1 1 1 5 1 1 2 1 1 1 1 1 1 1 1 1 1 1 1 1 1 1\n",
            " 1]\n"
          ]
        },
        {
          "output_type": "display_data",
          "data": {
            "text/plain": [
              "<Figure size 432x288 with 1 Axes>"
            ],
            "image/png": "[encoded data removed]"
          },
          "metadata": {
            "needs_background": "light"
          }
        }
      ],
      "source": [
        "elements = np.random.geometric(0.75, 1000)\n",
        "print(elements)\n",
        "count, bins, ignored = plt.hist(elements, 40, density = True)\n",
        "plt.show()"
      ]
    },
    {
      "cell_type": "markdown",
      "metadata": {
        "id": "zkQA9vYyUJaj"
      },
      "source": [
        "### Get Random elements from Laplace distribution"
      ]
    },
    {
      "cell_type": "code",
      "execution_count": null,
      "metadata": {
        "colab": {
          "base_uri": "https://localhost:8080/",
          "height": 282
        },
        "id": "u77xQk63UMy4",
        "outputId": "e228b165-e430-47fc-9bac-ab08923e6935"
      },
      "outputs": [
        {
          "output_type": "stream",
          "name": "stdout",
          "text": [
            "(1000,)\n"
          ]
        },
        {
          "output_type": "display_data",
          "data": {
            "text/plain": [
              "<Figure size 432x288 with 1 Axes>"
            ],
            "image/png": "[encoded data removed]"
          },
          "metadata": {
            "needs_background": "light"
          }
        }
      ],
      "source": [
        "elements = np.random.laplace(loc = 0, scale = 20, size = 1000)\n",
        "\n",
        "print(elements.shape)\n",
        "\n",
        "count, bins, ignored = plt.hist(elements, 30, density = True)\n",
        "plt.show()"
      ]
    },
    {
      "cell_type": "markdown",
      "metadata": {
        "id": "zv016lOoVDVe"
      },
      "source": [
        "### Return a Matrix of random values from a uniform distribution"
      ]
    },
    {
      "cell_type": "code",
      "execution_count": null,
      "metadata": {
        "colab": {
          "base_uri": "https://localhost:8080/"
        },
        "id": "9ldeTp6vVH7p",
        "outputId": "8309f27a-c18e-4924-a8a7-42318616fb91"
      },
      "outputs": [
        {
          "output_type": "stream",
          "name": "stdout",
          "text": [
            "[[0.86773018 0.28191295]\n",
            " [0.31361258 0.1811805 ]\n",
            " [0.29742583 0.65419885]]\n"
          ]
        }
      ],
      "source": [
        "matrix = np.random.uniform(size=(3, 2))\n",
        "print(matrix)"
      ]
    },
    {
      "cell_type": "markdown",
      "metadata": {
        "id": "HdAwiwLwVif_"
      },
      "source": [
        "### Return a Matrix of random values from a Gaussian distribution"
      ]
    },
    {
      "cell_type": "code",
      "execution_count": null,
      "metadata": {
        "colab": {
          "base_uri": "https://localhost:8080/"
        },
        "id": "ZNFDOSiqVkgI",
        "outputId": "3075df0b-3e5b-42e4-ddec-ae5c1c6db834"
      },
      "outputs": [
        {
          "output_type": "stream",
          "name": "stdout",
          "text": [
            "[[-0.06891542  0.62555715  0.56429878 -0.19882887]\n",
            " [ 0.57980816  1.23909947  3.29645834 -1.61470443]\n",
            " [-4.372922    0.84113885 -0.67799881 -1.55377863]]\n"
          ]
        }
      ],
      "source": [
        "matrix = np.random.normal(loc=0, scale=2, size=(3, 4))\n",
        "print(matrix)"
      ]
    },
    {
      "cell_type": "markdown",
      "metadata": {
        "id": "BhvJKMaSWcV5"
      },
      "source": [
        "# Questions on NumPy Sorting and Searching"
      ]
    },
    {
      "cell_type": "markdown",
      "metadata": {
        "id": "EJrL3Q6rWdYP"
      },
      "source": [
        "### How to get the indices of the sorted array using NumPy in Python?"
      ]
    },
    {
      "cell_type": "code",
      "execution_count": null,
      "metadata": {
        "colab": {
          "base_uri": "https://localhost:8080/"
        },
        "id": "KxqXvMtRWfoH",
        "outputId": "cccf12ef-72e5-4fed-9e68-e5cb7663ac02"
      },
      "outputs": [
        {
          "output_type": "stream",
          "name": "stdout",
          "text": [
            "Array: [2 4 1 3 8 5 9 6 7] \n",
            "\n",
            "Sorted indices: [2 0 3 1 5 7 8 4 6]\n"
          ]
        }
      ],
      "source": [
        "array = np.array([2, 4, 1, 3, 8, 5, 9, 6, 7])\n",
        "indices = np.argsort(array)\n",
        "\n",
        "print(\"Array:\", array, \"\\n\")\n",
        "print(\"Sorted indices:\", indices)"
      ]
    },
    {
      "cell_type": "markdown",
      "metadata": {
        "id": "77W-me8lXCJR"
      },
      "source": [
        "### Finding the k smallest values of a NumPy array"
      ]
    },
    {
      "cell_type": "code",
      "execution_count": null,
      "metadata": {
        "colab": {
          "base_uri": "https://localhost:8080/"
        },
        "id": "hz1kbxlAXFC2",
        "outputId": "9cbcc448-ff4f-4bc6-aa16-bead96c75bac"
      },
      "outputs": [
        {
          "output_type": "stream",
          "name": "stdout",
          "text": [
            "Array: [ 3  4 87 10 15 55  5  2  1 11 23 19] \n",
            "\n",
            "Sorted array: [ 1  2  3  4  5 10 11 15 19 23 55 87] \n",
            "\n",
            "K: 3\n",
            "K smallest values: [1 2 3]\n"
          ]
        }
      ],
      "source": [
        "array = np.array([3, 4, 87, 10, 15, 55, 5, 2, 1, 11, 23, 19])\n",
        "sorted_array = np.sort(array)\n",
        "k = 3\n",
        "k_smallest_values = sorted_array[:k]\n",
        "\n",
        "print(\"Array:\", array, \"\\n\")\n",
        "print(\"Sorted array:\", sorted_array, \"\\n\")\n",
        "print(\"K:\", k)\n",
        "print(\"K smallest values:\", k_smallest_values)"
      ]
    },
    {
      "cell_type": "markdown",
      "metadata": {
        "id": "ms25PyQrXxY6"
      },
      "source": [
        "### How to get the n-largest values of an array using NumPy?"
      ]
    },
    {
      "cell_type": "code",
      "execution_count": null,
      "metadata": {
        "colab": {
          "base_uri": "https://localhost:8080/"
        },
        "id": "-jD6SEUGX541",
        "outputId": "18c83047-67aa-438f-923f-ec6678252fef"
      },
      "outputs": [
        {
          "output_type": "stream",
          "name": "stdout",
          "text": [
            "Array: [ 3  4 87 10 15 55  5  2  1 11 23 19] \n",
            "\n",
            "Sorted array: [ 1  2  3  4  5 10 11 15 19 23 55 87] \n",
            "\n",
            "N: 3\n",
            "N largest values: [23 55 87]\n"
          ]
        }
      ],
      "source": [
        "array = np.array([3, 4, 87, 10, 15, 55, 5, 2, 1, 11, 23, 19])\n",
        "sorted_array = np.sort(array)\n",
        "n = 3\n",
        "n_largest_values = sorted_array[-n:]\n",
        "\n",
        "print(\"Array:\", array, \"\\n\")\n",
        "print(\"Sorted array:\", sorted_array, \"\\n\")\n",
        "print(\"N:\", n)\n",
        "print(\"N largest values:\", n_largest_values)"
      ]
    },
    {
      "cell_type": "markdown",
      "metadata": {
        "id": "3Moc6zz0YsUO"
      },
      "source": [
        "### Sort the values in a matrix"
      ]
    },
    {
      "cell_type": "code",
      "execution_count": null,
      "metadata": {
        "colab": {
          "base_uri": "https://localhost:8080/"
        },
        "id": "fmN0BFcYYu2i",
        "outputId": "ecc0585b-2177-48e2-8c7a-4f02c2a56aa3"
      },
      "outputs": [
        {
          "output_type": "stream",
          "name": "stdout",
          "text": [
            "[[3 1 2]\n",
            " [6 4 5]] \n",
            "\n",
            "[[1 2 3]\n",
            " [4 5 6]]\n"
          ]
        }
      ],
      "source": [
        "matrix = np.array([[3, 1, 2], [6, 4, 5]])\n",
        "print(matrix, \"\\n\")\n",
        "\n",
        "matrix.sort(axis = 1)\n",
        "print(matrix)"
      ]
    },
    {
      "cell_type": "markdown",
      "metadata": {
        "id": "QxW2xB3QZnm0"
      },
      "source": [
        "### Filter out integers from float numpy array"
      ]
    },
    {
      "cell_type": "code",
      "execution_count": null,
      "metadata": {
        "colab": {
          "base_uri": "https://localhost:8080/"
        },
        "id": "mHWftOT8ZqRy",
        "outputId": "1fda8908-1930-4e5b-8417-487584c2c9df"
      },
      "outputs": [
        {
          "output_type": "stream",
          "name": "stdout",
          "text": [
            "[ 2.5  2.2  2.  19.3  4.   5.6  1.  32.7] \n",
            "\n",
            "Without integers: [ 2.5  2.2 19.3  5.6 32.7]\n"
          ]
        }
      ],
      "source": [
        "array = np.array([2.5, 2.2, 2.0, 19.3, 4.0, 5.6, 1.0, 32.7])\n",
        "\n",
        "filtered = array[array != array.astype(int)]\n",
        "\n",
        "print(array, \"\\n\")\n",
        "print(\"Without integers:\", filtered)"
      ]
    },
    {
      "cell_type": "markdown",
      "metadata": {
        "id": "Om4DGFF3aTjf"
      },
      "source": [
        "### Find the indices into a sorted array"
      ]
    },
    {
      "cell_type": "code",
      "execution_count": null,
      "metadata": {
        "colab": {
          "base_uri": "https://localhost:8080/"
        },
        "id": "DZCTgOuNaU0p",
        "outputId": "eed53fee-b951-40d0-d0fa-d2cb134cc6e9"
      },
      "outputs": [
        {
          "output_type": "stream",
          "name": "stdout",
          "text": [
            "Array: [2 4 1 3 8 5 9 6 7] \n",
            "\n",
            "Sorted indices: [2 0 3 1 5 7 8 4 6]\n"
          ]
        }
      ],
      "source": [
        "array = np.array([2, 4, 1, 3, 8, 5, 9, 6, 7])\n",
        "indices = np.argsort(array)\n",
        "\n",
        "print(\"Array:\", array, \"\\n\")\n",
        "print(\"Sorted indices:\", indices)"
      ]
    },
    {
      "cell_type": "markdown",
      "metadata": {
        "id": "XbAnvPZ1xdah"
      },
      "source": [
        "# Questions on NumPy Mathematics"
      ]
    },
    {
      "cell_type": "markdown",
      "metadata": {
        "id": "Mll8Sv1bxgcQ"
      },
      "source": [
        "### How to get element-wise true division of an array using Numpy?"
      ]
    },
    {
      "cell_type": "code",
      "execution_count": null,
      "metadata": {
        "colab": {
          "base_uri": "https://localhost:8080/"
        },
        "id": "loIFwJ2ExhlF",
        "outputId": "8ed95d63-f444-4b14-f41d-5f326014d260"
      },
      "outputs": [
        {
          "output_type": "stream",
          "name": "stdout",
          "text": [
            "[0 1 2 3 4 5 6 7 8 9] \n",
            "\n",
            "[0.  0.5 1.  1.5 2.  2.5 3.  3.5 4.  4.5]\n"
          ]
        }
      ],
      "source": [
        "array = np.arange(10)\n",
        "\n",
        "division = np.true_divide(array, 2)\n",
        "\n",
        "print(array, \"\\n\")\n",
        "print(division)"
      ]
    },
    {
      "cell_type": "markdown",
      "metadata": {
        "id": "RtATqeOuyJU1"
      },
      "source": [
        "### How to calculate the element-wise absolute value of NumPy array?"
      ]
    },
    {
      "cell_type": "code",
      "execution_count": null,
      "metadata": {
        "colab": {
          "base_uri": "https://localhost:8080/"
        },
        "id": "zbfN5YOIyMg_",
        "outputId": "d0ee4279-3a72-456c-fc4a-32081a1f2a0a"
      },
      "outputs": [
        {
          "output_type": "stream",
          "name": "stdout",
          "text": [
            "[ 1  2 -3 -4  5 -6  7 -8] \n",
            "\n",
            "[1 2 3 4 5 6 7 8]\n"
          ]
        }
      ],
      "source": [
        "array = np.array([1, 2, -3, -4, 5, -6, 7, -8])\n",
        "\n",
        "absolute_values = np.absolute(array)\n",
        "\n",
        "print(array, \"\\n\")\n",
        "print(absolute_values)"
      ]
    },
    {
      "cell_type": "markdown",
      "metadata": {
        "id": "Rlvn3Ax-yoaL"
      },
      "source": [
        "### Compute the negative of the NumPy array"
      ]
    },
    {
      "cell_type": "code",
      "execution_count": null,
      "metadata": {
        "colab": {
          "base_uri": "https://localhost:8080/"
        },
        "id": "ow5VhQoQysaE",
        "outputId": "0d69ffb0-9404-4a80-e9b7-86957c3f46e7"
      },
      "outputs": [
        {
          "output_type": "stream",
          "name": "stdout",
          "text": [
            "[ 1  2 -3 -4  5 -6  7 -8] \n",
            "\n",
            "[-1 -2  3  4 -5  6 -7  8]\n"
          ]
        }
      ],
      "source": [
        "array = np.array([1, 2, -3, -4, 5, -6, 7, -8])\n",
        "\n",
        "negative = np.negative(array)\n",
        "\n",
        "print(array, \"\\n\")\n",
        "print(negative)"
      ]
    },
    {
      "cell_type": "markdown",
      "metadata": {
        "id": "lNFEjRCmzVL2"
      },
      "source": [
        "### Multiply 2d numpy array corresponding to 1d array"
      ]
    },
    {
      "cell_type": "code",
      "execution_count": null,
      "metadata": {
        "colab": {
          "base_uri": "https://localhost:8080/"
        },
        "id": "rblg8089zZJx",
        "outputId": "66b36ba1-5968-4893-f12e-89ca2d15fdb1"
      },
      "outputs": [
        {
          "output_type": "stream",
          "name": "stdout",
          "text": [
            "[[1 2 3]\n",
            " [4 5 6]\n",
            " [7 8 9]] \n",
            "\n",
            "[10 11 12] \n",
            "\n",
            "[[ 10  20  30]\n",
            " [ 44  55  66]\n",
            " [ 84  96 108]]\n"
          ]
        }
      ],
      "source": [
        "array_2d = np.array([[1, 2, 3], [4, 5, 6], [7, 8, 9]])\n",
        "array_1d = np.array([10, 11, 12])\n",
        "\n",
        "result = array_2d * array_1d[:, np.newaxis]\n",
        "\n",
        "print(array_2d, \"\\n\")\n",
        "print(array_1d, \"\\n\")\n",
        "print(result)"
      ]
    },
    {
      "cell_type": "markdown",
      "metadata": {
        "id": "YRJS2n0l0so2"
      },
      "source": [
        "### Computes the inner product of two arrays"
      ]
    },
    {
      "cell_type": "code",
      "execution_count": null,
      "metadata": {
        "colab": {
          "base_uri": "https://localhost:8080/"
        },
        "id": "dmJJIAqI0z4X",
        "outputId": "5e05acef-9940-48c5-9cf6-984db310a896"
      },
      "outputs": [
        {
          "output_type": "stream",
          "name": "stdout",
          "text": [
            "[ 5 10 15] \n",
            "\n",
            "[20 25 30] \n",
            "\n",
            "Inner product: 800\n"
          ]
        }
      ],
      "source": [
        "array_1 = np.array([5, 10, 15])\n",
        "array_2 = np.array([20, 25, 30])\n",
        "\n",
        "inner_product = np.inner(array_1, array_2)\n",
        "\n",
        "print(array_1, \"\\n\")\n",
        "print(array_2, \"\\n\")\n",
        "print(\"Inner product:\", inner_product)"
      ]
    },
    {
      "cell_type": "markdown",
      "metadata": {
        "id": "g4AhOUQN2EjX"
      },
      "source": [
        "### Compute the nth percentile of the NumPy array"
      ]
    },
    {
      "cell_type": "code",
      "execution_count": null,
      "metadata": {
        "colab": {
          "base_uri": "https://localhost:8080/"
        },
        "id": "zvfyLpWu2IUS",
        "outputId": "ccd35c42-2f5a-4fa5-eb37-4da8066b08c8"
      },
      "outputs": [
        {
          "output_type": "stream",
          "name": "stdout",
          "text": [
            "[20  2  7  1 34] \n",
            "\n",
            "N: 50\n",
            "Percentile 7.0\n"
          ]
        }
      ],
      "source": [
        "array = np.array([20, 2, 7, 1, 34])\n",
        "n = 50\n",
        "\n",
        "nth_percentile = np.percentile(array, n)\n",
        "\n",
        "print(array, \"\\n\")\n",
        "print(\"N:\", n)\n",
        "print(\"Percentile\", nth_percentile)"
      ]
    },
    {
      "cell_type": "markdown",
      "metadata": {
        "id": "Em8gdLqV3J0k"
      },
      "source": [
        "### Calculate the n-th order discrete difference along the given axis"
      ]
    },
    {
      "cell_type": "code",
      "execution_count": null,
      "metadata": {
        "colab": {
          "base_uri": "https://localhost:8080/"
        },
        "id": "PPWlchdK3M0-",
        "outputId": "4ba912db-62c3-41c3-eb5e-d4fff1ac3f4d"
      },
      "outputs": [
        {
          "output_type": "stream",
          "name": "stdout",
          "text": [
            "[[ 3 10 20]\n",
            " [15 30 32]\n",
            " [14  8 20]] \n",
            "\n",
            "[[ 7 10]\n",
            " [15  2]\n",
            " [-6 12]]\n"
          ]
        }
      ],
      "source": [
        "array = np.array([[3, 10, 20], [15, 30, 32], [14, 8, 20]])\n",
        "\n",
        "difference = np.diff(array, axis = 1)\n",
        "\n",
        "print(array, \"\\n\")\n",
        "print(difference)"
      ]
    },
    {
      "cell_type": "markdown",
      "metadata": {
        "id": "Ju7HfWdY4m9L"
      },
      "source": [
        "### Calculate the sum of all columns in a 2D NumPy array"
      ]
    },
    {
      "cell_type": "code",
      "execution_count": null,
      "metadata": {
        "colab": {
          "base_uri": "https://localhost:8080/"
        },
        "id": "SQ3Q-fFV4r8m",
        "outputId": "f68f8745-052d-47c9-f283-cd6c1f861d8f"
      },
      "outputs": [
        {
          "output_type": "stream",
          "name": "stdout",
          "text": [
            "[[1 2 3]\n",
            " [4 5 6]\n",
            " [7 8 9]] \n",
            "\n",
            "Columns sum: [12 15 18]\n"
          ]
        }
      ],
      "source": [
        "array = np.array([[1, 2, 3], [4, 5, 6], [7, 8, 9]])\n",
        "\n",
        "columns_sum = np.sum(array, axis = 0)\n",
        "\n",
        "print(array, \"\\n\")\n",
        "print(\"Columns sum:\", columns_sum)"
      ]
    },
    {
      "cell_type": "markdown",
      "metadata": {
        "id": "UTIyw9kl5Sk5"
      },
      "source": [
        "### Calculate average values of two given NumPy arrays"
      ]
    },
    {
      "cell_type": "code",
      "execution_count": null,
      "metadata": {
        "colab": {
          "base_uri": "https://localhost:8080/"
        },
        "id": "Kjm6C7KY61ct",
        "outputId": "fc0bebd1-9c1b-458a-bd37-539e5848127c"
      },
      "outputs": [
        {
          "output_type": "stream",
          "name": "stdout",
          "text": [
            "[1 2 3] \n",
            "\n",
            "[4 5 6] \n",
            "\n",
            "Average: [2.5 3.5 4.5]\n"
          ]
        }
      ],
      "source": [
        "array_1 = np.array([1, 2, 3])\n",
        "array_2 = np.array([4, 5, 6])\n",
        "\n",
        "average = (array_1 + array_2) / 2\n",
        "\n",
        "print(array_1, \"\\n\")\n",
        "print(array_2, \"\\n\")\n",
        "print(\"Average:\", average)"
      ]
    },
    {
      "cell_type": "markdown",
      "metadata": {
        "id": "CsVn7aeg7soD"
      },
      "source": [
        "### How to compute numerical negative value for all elements in a given NumPy array?"
      ]
    },
    {
      "cell_type": "code",
      "execution_count": null,
      "metadata": {
        "colab": {
          "base_uri": "https://localhost:8080/"
        },
        "id": "XlOiIkt_7z1d",
        "outputId": "edbd8572-59f6-4771-8113-5e4c11c47f95"
      },
      "outputs": [
        {
          "output_type": "stream",
          "name": "stdout",
          "text": [
            "[ 1  2 -3 -4  5 -6  7 -8] \n",
            "\n",
            "[-1 -2  3  4 -5  6 -7  8]\n"
          ]
        }
      ],
      "source": [
        "array = np.array([1, 2, -3, -4, 5, -6, 7, -8])\n",
        "\n",
        "negative = np.negative(array)\n",
        "\n",
        "print(array, \"\\n\")\n",
        "print(negative)"
      ]
    },
    {
      "cell_type": "markdown",
      "metadata": {
        "id": "nEMdbYExS9_v"
      },
      "source": [
        "### How to get the floor, ceiling and truncated values of the elements of a numpy array?"
      ]
    },
    {
      "cell_type": "code",
      "execution_count": null,
      "metadata": {
        "colab": {
          "base_uri": "https://localhost:8080/"
        },
        "id": "AF00j50bTK8k",
        "outputId": "198a989d-88e7-46c8-829d-d316644b18a9"
      },
      "outputs": [
        {
          "output_type": "stream",
          "name": "stdout",
          "text": [
            "[ 1.3   4.2   3.15  8.2   7.3  15.    9.1   2.2   6.8 ] \n",
            "\n",
            "Floor: [ 1.  4.  3.  8.  7. 15.  9.  2.  6.]\n",
            "Ceil: [ 2.  5.  4.  9.  8. 15. 10.  3.  7.]\n",
            "Truncated: [ 1.  4.  3.  8.  7. 15.  9.  2.  6.]\n"
          ]
        }
      ],
      "source": [
        "array = np.array([1.3, 4.2, 3.15, 8.2, 7.3, 15., 9.1, 2.2, 6.8])\n",
        "\n",
        "floor_values = np.floor(array)\n",
        "ceiling_values = np.ceil(array)\n",
        "truncated_values = np.trunc(array)\n",
        "\n",
        "print(array, \"\\n\")\n",
        "print(\"Floor:\", floor_values)\n",
        "print(\"Ceil:\", ceiling_values)\n",
        "print(\"Truncated:\", truncated_values)"
      ]
    },
    {
      "cell_type": "markdown",
      "metadata": {
        "id": "8ZdU7P7OUZEF"
      },
      "source": [
        "### How to round elements of the NumPy array to the nearest integer?"
      ]
    },
    {
      "cell_type": "code",
      "execution_count": null,
      "metadata": {
        "colab": {
          "base_uri": "https://localhost:8080/"
        },
        "id": "-PeK4y2fUch7",
        "outputId": "97628128-1d27-4117-e31c-dea132caaf46"
      },
      "outputs": [
        {
          "output_type": "stream",
          "name": "stdout",
          "text": [
            "[ 1.3   4.2   3.15  8.2   7.3  15.    9.1   2.2   6.8 ] \n",
            "\n",
            "Rounded: [ 1.  4.  3.  8.  7. 15.  9.  2.  7.]\n"
          ]
        }
      ],
      "source": [
        "array = np.array([1.3, 4.2, 3.15, 8.2, 7.3, 15., 9.1, 2.2, 6.8])\n",
        "\n",
        "rounded = np.round(array)\n",
        "\n",
        "print(array, \"\\n\"),\n",
        "print(\"Rounded:\", rounded)"
      ]
    },
    {
      "cell_type": "markdown",
      "metadata": {
        "id": "9OiwdKvSUvq2"
      },
      "source": [
        "### Find the round of the values of the given matrix\n"
      ]
    },
    {
      "cell_type": "code",
      "execution_count": null,
      "metadata": {
        "colab": {
          "base_uri": "https://localhost:8080/"
        },
        "id": "4nlIUhToU1_t",
        "outputId": "5f50a35c-155f-459d-8a28-10604ea0862c"
      },
      "outputs": [
        {
          "output_type": "stream",
          "name": "stdout",
          "text": [
            "[[1.1 4.6 7.2]\n",
            " [8.1 9.6 3.5]] \n",
            "\n",
            "Rounded:\n",
            " [[ 1.  5.  7.]\n",
            " [ 8. 10.  4.]]\n"
          ]
        }
      ],
      "source": [
        "matrix = np.matrix(\"1.1 4.6 7.2; 8.1 9.6 3.5\")\n",
        "\n",
        "rounded = matrix.round()\n",
        "\n",
        "print(matrix, \"\\n\")\n",
        "print(\"Rounded:\\n\", rounded)"
      ]
    },
    {
      "cell_type": "markdown",
      "metadata": {
        "id": "rmQmq4ZcVYna"
      },
      "source": [
        "### Determine the positive square-root of an array"
      ]
    },
    {
      "cell_type": "code",
      "execution_count": null,
      "metadata": {
        "colab": {
          "base_uri": "https://localhost:8080/"
        },
        "id": "k0BJ_v2EVjn_",
        "outputId": "b1fafb28-40b7-40c3-d861-af7549186874"
      },
      "outputs": [
        {
          "output_type": "stream",
          "name": "stdout",
          "text": [
            "[ 4  9 16 25 36] \n",
            "\n",
            "Square roots: [2. 3. 4. 5. 6.]\n"
          ]
        }
      ],
      "source": [
        "array = np.array([4, 9, 16, 25, 36])\n",
        "\n",
        "square_roots = np.sqrt(array)\n",
        "\n",
        "print(array, \"\\n\")\n",
        "print(\"Square roots:\", square_roots)"
      ]
    },
    {
      "cell_type": "markdown",
      "metadata": {
        "id": "xKTP51buV8J3"
      },
      "source": [
        "### Evaluate Einstein’s summation convention of two multidimensional NumPy arrays"
      ]
    },
    {
      "cell_type": "code",
      "execution_count": null,
      "metadata": {
        "colab": {
          "base_uri": "https://localhost:8080/"
        },
        "id": "Tw7DOeVzWBgC",
        "outputId": "ec5a633f-6c54-4332-c557-21a44f9517b6"
      },
      "outputs": [
        {
          "output_type": "stream",
          "name": "stdout",
          "text": [
            "[[1 2]\n",
            " [0 2]] \n",
            "\n",
            "[[0 1]\n",
            " [3 4]] \n",
            "\n",
            "Result:\n",
            " [[6 9]\n",
            " [6 8]]\n"
          ]
        }
      ],
      "source": [
        "array_1 = np.array([[1, 2], [0, 2]])\n",
        "array_2 = np.array([[0, 1], [3, 4]])\n",
        "\n",
        "einsteins_summation = np.einsum(\"mk,kn\", array_1, array_2)\n",
        "\n",
        "print(array_1, \"\\n\")\n",
        "print(array_2, \"\\n\")\n",
        "print(\"Result:\\n\", einsteins_summation)"
      ]
    },
    {
      "cell_type": "markdown",
      "metadata": {
        "id": "hdOxUCc5Wr1D"
      },
      "source": [
        "# Questions on NumPy Statistics"
      ]
    },
    {
      "cell_type": "markdown",
      "metadata": {
        "id": "iSofNr5hW1OT"
      },
      "source": [
        "### Compute the median of the flattened NumPy array"
      ]
    },
    {
      "cell_type": "code",
      "execution_count": null,
      "metadata": {
        "colab": {
          "base_uri": "https://localhost:8080/"
        },
        "id": "N-lcnFkQW4nI",
        "outputId": "5c5d6157-ba93-46b3-9c0a-1d5999fdcebb"
      },
      "outputs": [
        {
          "output_type": "stream",
          "name": "stdout",
          "text": [
            "[1 2 3 4 5 6 7 8 9] \n",
            "\n",
            "Median: 5.0\n"
          ]
        }
      ],
      "source": [
        "array = np.array([1, 2, 3, 4, 5, 6, 7, 8, 9])\n",
        "\n",
        "median = np.median(array)\n",
        "\n",
        "print(array, \"\\n\")\n",
        "print(\"Median:\", median)"
      ]
    },
    {
      "cell_type": "markdown",
      "metadata": {
        "id": "UBkf4ZHxX58N"
      },
      "source": [
        "### Find Mean of a List of Numpy Array"
      ]
    },
    {
      "cell_type": "code",
      "execution_count": null,
      "metadata": {
        "colab": {
          "base_uri": "https://localhost:8080/"
        },
        "id": "WUtH3HT0X-N8",
        "outputId": "1c800693-e5c1-4948-f40d-a1da10f07b82"
      },
      "outputs": [
        {
          "output_type": "stream",
          "name": "stdout",
          "text": [
            "List: [array([1, 2, 3, 4]), array([5, 6, 7, 8]), array([ 9, 10, 11, 12])]\n",
            "Means: [2.5, 6.5, 10.5]\n"
          ]
        }
      ],
      "source": [
        "list_of_arrays = [\n",
        "    np.array([1, 2, 3, 4]),\n",
        "    np.array([5, 6, 7, 8]),\n",
        "    np.array([9, 10, 11, 12])\n",
        "]\n",
        "\n",
        "means = []\n",
        "\n",
        "for i in range(len(list_of_arrays)):\n",
        "  mean = np.mean(list_of_arrays[i])\n",
        "  means.append(mean)\n",
        "\n",
        "print(\"List:\", list_of_arrays)\n",
        "print(\"Means:\", means)"
      ]
    },
    {
      "cell_type": "markdown",
      "metadata": {
        "id": "nofY9I9UZjZd"
      },
      "source": [
        "### Calculate the mean of array ignoring the NaN value"
      ]
    },
    {
      "cell_type": "code",
      "execution_count": null,
      "metadata": {
        "colab": {
          "base_uri": "https://localhost:8080/"
        },
        "id": "OGIlPbGaZkqi",
        "outputId": "7f4f0f49-a159-4eac-cd84-4fdfc8ab00eb"
      },
      "outputs": [
        {
          "output_type": "stream",
          "name": "stdout",
          "text": [
            "[20. nan 10.] \n",
            "\n",
            "Mean: 15.0\n"
          ]
        }
      ],
      "source": [
        "array = np.array([20, np.nan, 10])\n",
        "\n",
        "mean = np.nanmean(array)\n",
        "\n",
        "print(array, \"\\n\")\n",
        "print(\"Mean:\", mean)"
      ]
    },
    {
      "cell_type": "markdown",
      "metadata": {
        "id": "36JQHzJuZ9s7"
      },
      "source": [
        "### Get the mean value from given matrix"
      ]
    },
    {
      "cell_type": "code",
      "execution_count": null,
      "metadata": {
        "colab": {
          "base_uri": "https://localhost:8080/"
        },
        "id": "jHqY36pLaCAf",
        "outputId": "b558dfde-e47e-4315-af04-dce66fa8ea70"
      },
      "outputs": [
        {
          "output_type": "stream",
          "name": "stdout",
          "text": [
            "[[64  1]\n",
            " [12  3]] \n",
            "\n",
            "Mean: 20.0\n"
          ]
        }
      ],
      "source": [
        "matrix = np.matrix(\"64 1; 12 3\")\n",
        "\n",
        "mean = matrix.mean()\n",
        "\n",
        "print(matrix, \"\\n\")\n",
        "print(\"Mean:\", mean)"
      ]
    },
    {
      "cell_type": "markdown",
      "metadata": {
        "id": "C_Yh_gRmadR5"
      },
      "source": [
        "### Compute the variance of the NumPy array"
      ]
    },
    {
      "cell_type": "code",
      "execution_count": null,
      "metadata": {
        "colab": {
          "base_uri": "https://localhost:8080/"
        },
        "id": "9Did6O4Aag_P",
        "outputId": "8f232496-93b1-490f-e507-26c1bb9db3fb"
      },
      "outputs": [
        {
          "output_type": "stream",
          "name": "stdout",
          "text": [
            "[ 1  2  7 20 34] \n",
            "\n",
            "Variance: 158.16\n"
          ]
        }
      ],
      "source": [
        "array = np.array([1, 2, 7, 20, 34])\n",
        "\n",
        "variance = np.var(array)\n",
        "\n",
        "print(array, \"\\n\")\n",
        "print(\"Variance:\", variance)"
      ]
    },
    {
      "cell_type": "markdown",
      "metadata": {
        "id": "zUFToB8va52Y"
      },
      "source": [
        "### Compute the standard deviation of the NumPy array"
      ]
    },
    {
      "cell_type": "code",
      "execution_count": null,
      "metadata": {
        "colab": {
          "base_uri": "https://localhost:8080/"
        },
        "id": "aAz5uwFna9Be",
        "outputId": "881c6bf9-003a-4b93-83e1-0cebfce242c7"
      },
      "outputs": [
        {
          "output_type": "stream",
          "name": "stdout",
          "text": [
            "[ 1  2  7 20 34] \n",
            "\n",
            "Standard deviation: 12.576167937809991\n"
          ]
        }
      ],
      "source": [
        "array = np.array([1, 2, 7, 20, 34])\n",
        "\n",
        "standard_deviation = np.std(array)\n",
        "\n",
        "print(array, \"\\n\")\n",
        "print(\"Standard deviation:\", standard_deviation)"
      ]
    },
    {
      "cell_type": "markdown",
      "metadata": {
        "id": "vYZU-KpNbRYp"
      },
      "source": [
        "### Compute pearson product-moment correlation coefficients of two given NumPy arrays"
      ]
    },
    {
      "cell_type": "code",
      "execution_count": null,
      "metadata": {
        "colab": {
          "base_uri": "https://localhost:8080/"
        },
        "id": "qrpV_WAwbUbQ",
        "outputId": "801d6071-5103-4d3e-e5d2-f71b04fc3ded"
      },
      "outputs": [
        {
          "output_type": "stream",
          "name": "stdout",
          "text": [
            "[0 1 2] \n",
            "\n",
            "[3 4 5] \n",
            "\n",
            "Pearson product-moment correlation coefficients:\n",
            " [[1. 1.]\n",
            " [1. 1.]]\n"
          ]
        }
      ],
      "source": [
        "array_1 = np.array([0, 1, 2])\n",
        "array_2 = np.array([3, 4, 5])\n",
        "\n",
        "correlation_coefficients = np.corrcoef(array_1, array_2)\n",
        "\n",
        "print(array_1, \"\\n\")\n",
        "print(array_2, \"\\n\")\n",
        "print(\"Pearson product-moment correlation coefficients:\\n\", correlation_coefficients)"
      ]
    },
    {
      "cell_type": "markdown",
      "metadata": {
        "id": "R792BzTMb6Gn"
      },
      "source": [
        "### Calculate the mean across dimension in a 2D NumPy array"
      ]
    },
    {
      "cell_type": "code",
      "execution_count": null,
      "metadata": {
        "colab": {
          "base_uri": "https://localhost:8080/"
        },
        "id": "ZquQpPWcb_a-",
        "outputId": "e1667af9-ba9f-4ff2-95ce-915e9698961d"
      },
      "outputs": [
        {
          "output_type": "stream",
          "name": "stdout",
          "text": [
            "[[1 2 3]\n",
            " [4 5 6]\n",
            " [7 8 9]]\n"
          ]
        }
      ],
      "source": [
        "array = np.array([[1, 2, 3], [4, 5, 6], [7, 8, 9]])\n",
        "print(array)"
      ]
    },
    {
      "cell_type": "markdown",
      "metadata": {
        "id": "EH2B173fcVNW"
      },
      "source": [
        "#### Row"
      ]
    },
    {
      "cell_type": "code",
      "execution_count": null,
      "metadata": {
        "colab": {
          "base_uri": "https://localhost:8080/"
        },
        "id": "EIhdDtXucXzI",
        "outputId": "6672c2a9-64eb-4dc3-fea6-a042f876c6b1"
      },
      "outputs": [
        {
          "output_type": "stream",
          "name": "stdout",
          "text": [
            "Row 0 mean: 2.0\n",
            "Row 1 mean: 5.0\n",
            "Row 2 mean: 8.0\n"
          ]
        }
      ],
      "source": [
        "row_mean = np.mean(array, axis = 1)\n",
        "for i in range(len(row_mean)):\n",
        "  print(\"Row {} mean: {}\".format(i, row_mean[i]))"
      ]
    },
    {
      "cell_type": "markdown",
      "metadata": {
        "id": "xgRuMAtadERz"
      },
      "source": [
        "#### Column"
      ]
    },
    {
      "cell_type": "code",
      "execution_count": null,
      "metadata": {
        "colab": {
          "base_uri": "https://localhost:8080/"
        },
        "id": "2RteXzqBdJHo",
        "outputId": "4c77d3e6-8b10-4985-f2b7-81c465883380"
      },
      "outputs": [
        {
          "output_type": "stream",
          "name": "stdout",
          "text": [
            "Column 0 mean: 4.0\n",
            "Column 1 mean: 5.0\n",
            "Column 2 mean: 6.0\n"
          ]
        }
      ],
      "source": [
        "column_mean = np.mean(array, axis = 0)\n",
        "for i in range(len(column_mean)):\n",
        "  print(\"Column {} mean: {}\".format(i, column_mean[i]))"
      ]
    },
    {
      "cell_type": "markdown",
      "metadata": {
        "id": "mk-xH0iFdZSS"
      },
      "source": [
        "### Calculate the average, variance and standard deviation in Python using NumPy"
      ]
    },
    {
      "cell_type": "code",
      "execution_count": null,
      "metadata": {
        "colab": {
          "base_uri": "https://localhost:8080/"
        },
        "id": "TYFrHTb7dcsp",
        "outputId": "9b2bade7-8a7a-4644-e568-11c0ee67ad27"
      },
      "outputs": [
        {
          "output_type": "stream",
          "name": "stdout",
          "text": [
            "[ 1  2  7 20 34] \n",
            "\n",
            "Average: 12.8\n",
            "Variance: 158.16\n",
            "Standard deviation: 12.576167937809991\n"
          ]
        }
      ],
      "source": [
        "array = np.array([1, 2, 7, 20, 34])\n",
        "\n",
        "average = np.average(array)\n",
        "variance = np.var(array)\n",
        "standard_deviation = np.std(array)\n",
        "\n",
        "print(array, \"\\n\")\n",
        "print(\"Average:\", average)\n",
        "print(\"Variance:\", variance)\n",
        "print(\"Standard deviation:\", standard_deviation)"
      ]
    },
    {
      "cell_type": "markdown",
      "metadata": {
        "id": "TI9gs4knd3al"
      },
      "source": [
        "### Describe a NumPy Array in Python"
      ]
    },
    {
      "cell_type": "code",
      "execution_count": null,
      "metadata": {
        "colab": {
          "base_uri": "https://localhost:8080/"
        },
        "id": "maBVS7z0d8kj",
        "outputId": "e981f5d2-afcb-4b77-bfce-e931971f674e"
      },
      "outputs": [
        {
          "output_type": "stream",
          "name": "stdout",
          "text": [
            "[ 1  2  7 20 34] \n",
            "\n",
            "Mean: 12.8\n",
            "Median: 7.0\n",
            "Minimum: 1\n",
            "Maximum: 34\n",
            "Range: 33\n",
            "Variance: 158.16\n",
            "Standard deviation: 12.576167937809991\n"
          ]
        }
      ],
      "source": [
        "array = np.array([1, 2, 7, 20, 34])\n",
        "\n",
        "mean = np.mean(array)\n",
        "median = np.median(array)\n",
        "min = np.amin(array)\n",
        "max = np.amax(array)\n",
        "range = np.ptp(array)\n",
        "variance = np.var(array)\n",
        "standard_deviation = np.std(array)\n",
        "\n",
        "print(array, \"\\n\")\n",
        "print(\"Mean:\", mean)\n",
        "print(\"Median:\", median)\n",
        "print(\"Minimum:\", min)\n",
        "print(\"Maximum:\", max)\n",
        "print(\"Range:\", range)\n",
        "print(\"Variance:\", variance)\n",
        "print(\"Standard deviation:\", standard_deviation)"
      ]
    },
    {
      "cell_type": "markdown",
      "metadata": {
        "id": "jC6GhMTsfRLj"
      },
      "source": [
        "# Questions on Polynomial"
      ]
    },
    {
      "cell_type": "markdown",
      "metadata": {
        "id": "v3kHVa5OfaRS"
      },
      "source": [
        "### Define a polynomial function"
      ]
    },
    {
      "cell_type": "code",
      "execution_count": null,
      "metadata": {
        "colab": {
          "base_uri": "https://localhost:8080/"
        },
        "id": "-MPNyMAjfcrp",
        "outputId": "4aca43c2-0cf7-4f75-a85f-da33fc633521"
      },
      "outputs": [
        {
          "output_type": "stream",
          "name": "stdout",
          "text": [
            " \n",
            "3 x + 10\n"
          ]
        }
      ],
      "source": [
        "polynomial = np.poly1d([3, 10])\n",
        "print(polynomial)"
      ]
    },
    {
      "cell_type": "markdown",
      "metadata": {
        "id": "ltxJC-Q4fu8V"
      },
      "source": [
        "### How to add one polynomial to another using NumPy in Python?"
      ]
    },
    {
      "cell_type": "code",
      "execution_count": null,
      "metadata": {
        "colab": {
          "base_uri": "https://localhost:8080/"
        },
        "id": "QPaeAw0efziE",
        "outputId": "7e04b6a6-846e-4e8b-fe62-6bc765e808f4"
      },
      "outputs": [
        {
          "output_type": "stream",
          "name": "stdout",
          "text": [
            "P1:   \n",
            "1 x + 2 \n",
            "\n",
            "P2:   \n",
            "3 x + 4 \n",
            "\n",
            "Result:  \n",
            "4 x + 6\n"
          ]
        }
      ],
      "source": [
        "polynomial_1 = (1, 2)\n",
        "polynomial_2 = (3, 4)\n",
        "\n",
        "result = np.polynomial.polynomial.polyadd(polynomial_1, polynomial_2)\n",
        "\n",
        "print(\"P1: \", np.poly1d(polynomial_1), \"\\n\")\n",
        "print(\"P2: \", np.poly1d(polynomial_2), \"\\n\")\n",
        "print(\"Result:\", np.poly1d(result))"
      ]
    },
    {
      "cell_type": "markdown",
      "metadata": {
        "id": "AWXzGlxgg_28"
      },
      "source": [
        "### How to subtract one polynomial to another using NumPy in Python?"
      ]
    },
    {
      "cell_type": "code",
      "execution_count": null,
      "metadata": {
        "colab": {
          "base_uri": "https://localhost:8080/"
        },
        "id": "btJWkTdmhKdp",
        "outputId": "3a5f1c9a-1f2a-4c4d-af3f-c45538f4af64"
      },
      "outputs": [
        {
          "output_type": "stream",
          "name": "stdout",
          "text": [
            "P1:   \n",
            "1 x + 2 \n",
            "\n",
            "P2:   \n",
            "3 x + 4 \n",
            "\n",
            "Result:  \n",
            "-2 x - 2\n"
          ]
        }
      ],
      "source": [
        "polynomial_1 = (1, 2)\n",
        "polynomial_2 = (3, 4)\n",
        "\n",
        "result = np.polynomial.polynomial.polysub(polynomial_1, polynomial_2)\n",
        "\n",
        "print(\"P1: \", np.poly1d(polynomial_1), \"\\n\")\n",
        "print(\"P2: \", np.poly1d(polynomial_2), \"\\n\")\n",
        "print(\"Result:\", np.poly1d(result))"
      ]
    },
    {
      "cell_type": "markdown",
      "metadata": {
        "id": "ri-0WJy5hhP1"
      },
      "source": [
        "### How to multiply a polynomial to another using NumPy in Python?"
      ]
    },
    {
      "cell_type": "code",
      "execution_count": null,
      "metadata": {
        "colab": {
          "base_uri": "https://localhost:8080/"
        },
        "id": "2Mpkd5PLhkLI",
        "outputId": "75738c4a-02f0-4ae1-b5f8-798efbed1c00"
      },
      "outputs": [
        {
          "output_type": "stream",
          "name": "stdout",
          "text": [
            "P1:   \n",
            "1 x + 2 \n",
            "\n",
            "P2:   \n",
            "3 x + 4 \n",
            "\n",
            "Result:    2\n",
            "3 x + 10 x + 8\n"
          ]
        }
      ],
      "source": [
        "polynomial_1 = (1, 2)\n",
        "polynomial_2 = (3, 4)\n",
        "\n",
        "result = np.polynomial.polynomial.polymul(polynomial_1, polynomial_2)\n",
        "\n",
        "print(\"P1: \", np.poly1d(polynomial_1), \"\\n\")\n",
        "print(\"P2: \", np.poly1d(polynomial_2), \"\\n\")\n",
        "print(\"Result:\", np.poly1d(result))"
      ]
    },
    {
      "cell_type": "markdown",
      "metadata": {
        "id": "q2Gu9nU_h1oF"
      },
      "source": [
        "### How to divide a polynomial to another using NumPy in Python?"
      ]
    },
    {
      "cell_type": "code",
      "execution_count": null,
      "metadata": {
        "colab": {
          "base_uri": "https://localhost:8080/"
        },
        "id": "-HIPaomJh6l_",
        "outputId": "0f3cb35d-ffb1-4ac0-da58-2bb6678ca59a"
      },
      "outputs": [
        {
          "output_type": "stream",
          "name": "stdout",
          "text": [
            "P1:     2\n",
            "5 x - 2 x + 5 \n",
            "\n",
            "P2:     2\n",
            "2 x + 1 x \n",
            "\n",
            "Quotient:  \n",
            "-12 x + 5\n",
            "Remainder:  \n",
            "29\n"
          ]
        }
      ],
      "source": [
        "polynomial_1 = (5, -2, 5)\n",
        "polynomial_2 = (2, 1, 0)\n",
        "\n",
        "quotient, remainder = np.polynomial.polynomial.polydiv(polynomial_1, polynomial_2)\n",
        "\n",
        "print(\"P1: \", np.poly1d(polynomial_1), \"\\n\")\n",
        "print(\"P2: \", np.poly1d(polynomial_2), \"\\n\")\n",
        "print(\"Quotient:\", np.poly1d(quotient))\n",
        "print(\"Remainder:\", np.poly1d(remainder))"
      ]
    },
    {
      "cell_type": "markdown",
      "metadata": {
        "id": "i7wVW2CZjS2n"
      },
      "source": [
        "### Find the roots of the polynomials using NumPy"
      ]
    },
    {
      "cell_type": "code",
      "execution_count": null,
      "metadata": {
        "colab": {
          "base_uri": "https://localhost:8080/"
        },
        "id": "YVfXtjvXjUWO",
        "outputId": "7c4dae9f-0ec6-47f5-9412-c0ce4402b166"
      },
      "outputs": [
        {
          "output_type": "stream",
          "name": "stdout",
          "text": [
            "Poly:    2\n",
            "1 x + 2 x + 1 \n",
            "\n",
            "Roots: [-1. -1.]\n"
          ]
        }
      ],
      "source": [
        "poly = (1, 2, 1)\n",
        "\n",
        "roots = np.roots(poly)\n",
        "\n",
        "print(\"Poly:\", np.poly1d(poly), \"\\n\")\n",
        "print(\"Roots:\", roots)"
      ]
    },
    {
      "cell_type": "markdown",
      "metadata": {
        "id": "Iu6SZD-6j3Xu"
      },
      "source": [
        "### Evaluate a 2-D polynomial series on the Cartesian product"
      ]
    },
    {
      "cell_type": "code",
      "execution_count": null,
      "metadata": {
        "colab": {
          "base_uri": "https://localhost:8080/"
        },
        "id": "eqhvzsVhkLhu",
        "outputId": "6be2ffe4-0468-4a50-fe7b-bb308665f5e5"
      },
      "outputs": [
        {
          "output_type": "stream",
          "name": "stdout",
          "text": [
            "Poly:\n",
            " [[1 3 5]\n",
            " [2 4 6]] \n",
            "\n",
            "x: [7 9]\n",
            "y: [ 8 10] \n",
            "\n",
            "Evaluation:\n",
            " [[3271. 5025.]\n",
            " [4107. 6309.]]\n"
          ]
        }
      ],
      "source": [
        "poly = np.array([[1, 3, 5], [2, 4, 6]])\n",
        "x = np.array([7, 9])\n",
        "y = np.array([8, 10])\n",
        "\n",
        "evaluation = np.polynomial.polynomial.polygrid2d(x, y, poly)\n",
        "\n",
        "print(\"Poly:\\n\", poly, \"\\n\")\n",
        "print(\"x:\", x)\n",
        "print(\"y:\", y, \"\\n\")\n",
        "\n",
        "print(\"Evaluation:\\n\", evaluation)"
      ]
    },
    {
      "cell_type": "markdown",
      "metadata": {
        "id": "ypw4kYvzk_dI"
      },
      "source": [
        "### Evaluate a 3-D polynomial series on the Cartesian product"
      ]
    },
    {
      "cell_type": "code",
      "execution_count": null,
      "metadata": {
        "colab": {
          "base_uri": "https://localhost:8080/"
        },
        "id": "TG0uF8-8lBQH",
        "outputId": "b234bdf1-ff6d-4b91-f2cd-f3a218d80272"
      },
      "outputs": [
        {
          "output_type": "stream",
          "name": "stdout",
          "text": [
            "Poly:\n",
            " [[ 1  3  5]\n",
            " [ 2  4  6]\n",
            " [10 11 12]] \n",
            "\n",
            "x: [7 9]\n",
            "y: [ 8 10]\n",
            "z: [5 6] \n",
            "\n",
            "Evaluation:\n",
            " [[416970. 491223.]\n",
            " [635850. 749079.]]\n"
          ]
        }
      ],
      "source": [
        "poly = np.array([[1, 3, 5], [2, 4, 6], [10, 11, 12]])\n",
        "x = np.array([7, 9])\n",
        "y = np.array([8, 10])\n",
        "z = np.array([5, 6])\n",
        "\n",
        "evaluation = np.polynomial.polynomial.polygrid3d(x, y, z, poly)\n",
        "\n",
        "print(\"Poly:\\n\", poly, \"\\n\")\n",
        "print(\"x:\", x)\n",
        "print(\"y:\", y)\n",
        "print(\"z:\", z, \"\\n\")\n",
        "\n",
        "print(\"Evaluation:\\n\", evaluation)"
      ]
    },
    {
      "cell_type": "markdown",
      "metadata": {
        "id": "aGPas5ZhfEsS"
      },
      "source": [
        "# Questions on NumPy Strings"
      ]
    },
    {
      "cell_type": "markdown",
      "metadata": {
        "id": "aVrYTZZxfIWo"
      },
      "source": [
        "### Repeat all the elements of a NumPy array of strings"
      ]
    },
    {
      "cell_type": "code",
      "execution_count": null,
      "metadata": {
        "colab": {
          "base_uri": "https://localhost:8080/"
        },
        "id": "NKrPG2bbfY41",
        "outputId": "80a0dc3f-c84f-4d43-9b7a-da691ca5e72f"
      },
      "outputs": [
        {
          "output_type": "stream",
          "name": "stdout",
          "text": [
            "['Lorem' 'Ipsum' 'Dolor' 'Sit' 'Amet'] \n",
            "\n",
            "['LoremLoremLorem' 'IpsumIpsumIpsum' 'DolorDolorDolor' 'SitSitSit'\n",
            " 'AmetAmetAmet']\n"
          ]
        }
      ],
      "source": [
        "array = np.array([\"Lorem\", \"Ipsum\", \"Dolor\", \"Sit\", \"Amet\"], dtype = str)\n",
        "times_to_repeat = 3\n",
        "\n",
        "repeated = np.char.multiply(array, times_to_repeat)\n",
        "\n",
        "print(array, \"\\n\")\n",
        "print(repeated)"
      ]
    },
    {
      "cell_type": "markdown",
      "metadata": {
        "id": "G9ROytLcgfnV"
      },
      "source": [
        "### How to split the element of a given NumPy array with spaces?"
      ]
    },
    {
      "cell_type": "code",
      "execution_count": null,
      "metadata": {
        "colab": {
          "base_uri": "https://localhost:8080/"
        },
        "id": "YABu2N3dgkUW",
        "outputId": "32935e37-9aec-46fc-cae8-54c2bc2c31fc"
      },
      "outputs": [
        {
          "output_type": "stream",
          "name": "stdout",
          "text": [
            "['Lorem ipsum dolor sit amet'] \n",
            "\n",
            "[list(['Lorem', 'ipsum', 'dolor', 'sit', 'amet'])]\n"
          ]
        }
      ],
      "source": [
        "array = np.array([\"Lorem ipsum dolor sit amet\"], dtype = str)\n",
        "\n",
        "splitted = np.char.split(array)\n",
        "\n",
        "print(array, \"\\n\")\n",
        "print(splitted)"
      ]
    },
    {
      "cell_type": "markdown",
      "metadata": {
        "id": "UOTCn4c8hWy2"
      },
      "source": [
        "### How to insert a space between characters of all the elements of a given NumPy array?"
      ]
    },
    {
      "cell_type": "code",
      "execution_count": null,
      "metadata": {
        "colab": {
          "base_uri": "https://localhost:8080/"
        },
        "id": "8ctYFt6Ehaqt",
        "outputId": "434f04c0-2955-4d76-8368-01eed830fb39"
      },
      "outputs": [
        {
          "output_type": "stream",
          "name": "stdout",
          "text": [
            "['Lorem' 'Ipsum' 'Dolor' 'Sit' 'Amet'] \n",
            "\n",
            "['L o r e m' 'I p s u m' 'D o l o r' 'S i t' 'A m e t']\n"
          ]
        }
      ],
      "source": [
        "array = np.array([\"Lorem\", \"Ipsum\", \"Dolor\", \"Sit\", \"Amet\"], dtype = str)\n",
        "\n",
        "with_space_between = np.char.join(\" \", array)\n",
        "\n",
        "print(array, \"\\n\")\n",
        "print(with_space_between)"
      ]
    },
    {
      "cell_type": "markdown",
      "metadata": {
        "id": "_7l7Xw0QiGjp"
      },
      "source": [
        "### Find the length of each string element in the Numpy array"
      ]
    },
    {
      "cell_type": "code",
      "execution_count": null,
      "metadata": {
        "colab": {
          "base_uri": "https://localhost:8080/"
        },
        "id": "Q1W3FpDOiJEF",
        "outputId": "a18a4ae8-9dd6-48f5-fcd7-076f7f1807fb"
      },
      "outputs": [
        {
          "output_type": "stream",
          "name": "stdout",
          "text": [
            "['Lorem' 'Ipsum' 'Dolor' 'Sit' 'Amet'] \n",
            "\n",
            "Length of each string: [5 5 5 3 4]\n"
          ]
        }
      ],
      "source": [
        "array = np.array([\"Lorem\", \"Ipsum\", \"Dolor\", \"Sit\", \"Amet\"], dtype = str)\n",
        "lengths = np.char.str_len(array)\n",
        "\n",
        "print(array, \"\\n\")\n",
        "print(\"Length of each string:\", lengths)"
      ]
    },
    {
      "cell_type": "markdown",
      "metadata": {
        "id": "DWZ1J3RNiz4N"
      },
      "source": [
        "### Swap the case of an array of string"
      ]
    },
    {
      "cell_type": "code",
      "execution_count": null,
      "metadata": {
        "colab": {
          "base_uri": "https://localhost:8080/"
        },
        "id": "wRv4RrXKi3rx",
        "outputId": "761308f5-8753-4549-9f15-d03727f2e092"
      },
      "outputs": [
        {
          "output_type": "stream",
          "name": "stdout",
          "text": [
            "['Lorem' 'Ipsum' 'Dolor' 'Sit' 'Amet'] \n",
            "\n",
            "['lOREM' 'iPSUM' 'dOLOR' 'sIT' 'aMET']\n"
          ]
        }
      ],
      "source": [
        "array = np.array([\"Lorem\", \"Ipsum\", \"Dolor\", \"Sit\", \"Amet\"], dtype = str)\n",
        "\n",
        "swapped = np.char.swapcase(array)\n",
        "\n",
        "print(array, \"\\n\")\n",
        "print(swapped)"
      ]
    },
    {
      "cell_type": "markdown",
      "metadata": {
        "id": "KDzaZmhRjIj7"
      },
      "source": [
        "### Change the case to uppercase of elements of an array"
      ]
    },
    {
      "cell_type": "code",
      "execution_count": null,
      "metadata": {
        "colab": {
          "base_uri": "https://localhost:8080/"
        },
        "id": "DPKfkGNbjNP9",
        "outputId": "70e7e0e7-e437-4194-f7a6-b2ac548de371"
      },
      "outputs": [
        {
          "output_type": "stream",
          "name": "stdout",
          "text": [
            "['Lorem' 'Ipsum' 'Dolor' 'Sit' 'Amet'] \n",
            "\n",
            "['LOREM' 'IPSUM' 'DOLOR' 'SIT' 'AMET']\n"
          ]
        }
      ],
      "source": [
        "array = np.array([\"Lorem\", \"Ipsum\", \"Dolor\", \"Sit\", \"Amet\"], dtype = str)\n",
        "\n",
        "upper = np.char.upper(array)\n",
        "\n",
        "print(array, \"\\n\")\n",
        "print(upper)"
      ]
    },
    {
      "cell_type": "markdown",
      "metadata": {
        "id": "STby-44mjh4A"
      },
      "source": [
        "### Change the case to lowercase of elements of an array"
      ]
    },
    {
      "cell_type": "code",
      "execution_count": null,
      "metadata": {
        "colab": {
          "base_uri": "https://localhost:8080/"
        },
        "id": "leDzDmcjjkjX",
        "outputId": "fc3dc51d-dd8c-4aa2-b819-2442427aab7e"
      },
      "outputs": [
        {
          "output_type": "stream",
          "name": "stdout",
          "text": [
            "['Lorem' 'Ipsum' 'Dolor' 'Sit' 'Amet'] \n",
            "\n",
            "['lorem' 'ipsum' 'dolor' 'sit' 'amet']\n"
          ]
        }
      ],
      "source": [
        "array = np.array([\"Lorem\", \"Ipsum\", \"Dolor\", \"Sit\", \"Amet\"], dtype = str)\n",
        "\n",
        "lower = np.char.lower(array)\n",
        "\n",
        "print(array, \"\\n\")\n",
        "print(lower)"
      ]
    },
    {
      "cell_type": "markdown",
      "metadata": {
        "id": "SCw5MHiIjqIA"
      },
      "source": [
        "### Join String by a seperator"
      ]
    },
    {
      "cell_type": "code",
      "execution_count": null,
      "metadata": {
        "colab": {
          "base_uri": "https://localhost:8080/"
        },
        "id": "AC62Q49VjuST",
        "outputId": "38d51ee2-09f2-4318-9cb0-36942fb9c677"
      },
      "outputs": [
        {
          "output_type": "stream",
          "name": "stdout",
          "text": [
            "['Lorem' 'Ipsum' 'Dolor' 'Sit' 'Amet'] \n",
            "\n",
            "['L_o_r_e_m' 'I_p_s_u_m' 'D_o_l_o_r' 'S_i_t' 'A_m_e_t']\n"
          ]
        }
      ],
      "source": [
        "array = np.array([\"Lorem\", \"Ipsum\", \"Dolor\", \"Sit\", \"Amet\"], dtype = str)\n",
        "\n",
        "joined = np.char.join(\"_\", array)\n",
        "\n",
        "print(array, \"\\n\")\n",
        "print(joined)"
      ]
    },
    {
      "cell_type": "markdown",
      "metadata": {
        "id": "O_70dLbjj-9k"
      },
      "source": [
        "### Check if two same shaped string arrays one by one"
      ]
    },
    {
      "cell_type": "code",
      "execution_count": null,
      "metadata": {
        "colab": {
          "base_uri": "https://localhost:8080/"
        },
        "id": "VLlAA76skDil",
        "outputId": "30f34ea2-1a2a-44aa-f55d-26d2045ed706"
      },
      "outputs": [
        {
          "output_type": "stream",
          "name": "stdout",
          "text": [
            "Checking equality element-wise in ['Lorem' 'Ipsum' 'Dolor' 'Sit' 'Amet'] and ['Lorem' 'Ipsum' 'Dolr' 'Sit' 'Ame']\n",
            "[ True  True False  True False] \n",
            "\n",
            "Checking equality element-wise in ['Lorem' 'Ipsum' 'Dolor' 'Sit' 'Amet'] and ['Lorem' 'Ipsum' 'Dolor' 'Sit' 'Amet']\n",
            "[ True  True  True  True  True]\n"
          ]
        }
      ],
      "source": [
        "def elements_are_equal(array_1, array_2): \n",
        "  print(\"Checking equality element-wise in\", array_1, \"and\", array_2)\n",
        "  return np.char.equal(array_1, array_2)\n",
        "\n",
        "array_1 = np.array([\"Lorem\", \"Ipsum\", \"Dolor\", \"Sit\", \"Amet\"], dtype = str)\n",
        "array_2 = np.array([\"Lorem\", \"Ipsum\", \"Dolr\", \"Sit\", \"Ame\"], dtype = str)\n",
        "\n",
        "print(elements_are_equal(array_1, array_2), \"\\n\")\n",
        "print(elements_are_equal(array_1, array_1))"
      ]
    },
    {
      "cell_type": "markdown",
      "metadata": {
        "id": "RlfE-RhSlkj7"
      },
      "source": [
        "### Count the number of substrings in an array"
      ]
    },
    {
      "cell_type": "code",
      "execution_count": null,
      "metadata": {
        "colab": {
          "base_uri": "https://localhost:8080/"
        },
        "id": "0AxgPhZyl7S8",
        "outputId": "48e19c3d-f6d8-42cc-eee3-1298a0f004a0"
      },
      "outputs": [
        {
          "output_type": "stream",
          "name": "stdout",
          "text": [
            "['Manhattam' 'Man' 'Manager' 'Test'] \n",
            "\n",
            "Substring: a\n",
            "Count: [3 1 2 0]\n"
          ]
        }
      ],
      "source": [
        "array = np.array([\"Manhattam\", \"Man\", \"Manager\", \"Test\"], dtype = str)\n",
        "substring = \"a\"\n",
        "\n",
        "counting = np.char.count(array, substring)\n",
        "\n",
        "print(array, \"\\n\")\n",
        "print(\"Substring:\", substring)\n",
        "print(\"Count:\", counting)"
      ]
    },
    {
      "cell_type": "markdown",
      "metadata": {
        "id": "moUiNfUemyPO"
      },
      "source": [
        "### Find the lowest index of the substring in an array"
      ]
    },
    {
      "cell_type": "code",
      "execution_count": null,
      "metadata": {
        "colab": {
          "base_uri": "https://localhost:8080/"
        },
        "id": "shXJY6F9m1Vb",
        "outputId": "7be7d631-ccd4-42de-e9df-85a258ae6cf1"
      },
      "outputs": [
        {
          "output_type": "stream",
          "name": "stdout",
          "text": [
            "['technology' 'international' 'undergraduate' 'uninterrupted' 'california'] \n",
            "\n",
            "Substring: te\n",
            "Lowest indexes: [ 0  2 11  4 -1]\n"
          ]
        }
      ],
      "source": [
        "array = np.array([\"technology\", \"international\", \"undergraduate\", \"uninterrupted\", \"california\"])\n",
        "substring = \"te\"\n",
        "\n",
        "lowest_indexes = np.char.find(array, substring)\n",
        "\n",
        "print(array, \"\\n\")\n",
        "print(\"Substring:\", substring)\n",
        "print(\"Lowest indexes:\", lowest_indexes)"
      ]
    },
    {
      "cell_type": "markdown",
      "metadata": {
        "id": "8LoNIjH1oKuE"
      },
      "source": [
        "### Get the boolean array when values end with a particular character"
      ]
    },
    {
      "cell_type": "code",
      "execution_count": null,
      "metadata": {
        "colab": {
          "base_uri": "https://localhost:8080/"
        },
        "id": "DvCfP0AloPl3",
        "outputId": "7f6f54a2-fa39-42d6-d260-199409463f53"
      },
      "outputs": [
        {
          "output_type": "stream",
          "name": "stdout",
          "text": [
            "['Lorem' 'Ipsum' 'Dolor' 'Sit' 'Amet'] \n",
            "\n",
            "Strings that end with: m\n",
            "[ True  True False False False]\n"
          ]
        }
      ],
      "source": [
        "array = np.array([\"Lorem\", \"Ipsum\", \"Dolor\", \"Sit\", \"Amet\"], dtype = str)\n",
        "character = 'm'\n",
        "\n",
        "ends_with_character = np.char.endswith(array, character)\n",
        "\n",
        "print(array, \"\\n\")\n",
        "print(\"Strings that end with:\", character)\n",
        "print(ends_with_character)"
      ]
    },
    {
      "cell_type": "markdown",
      "metadata": {
        "id": "rpG3BRxzpJh2"
      },
      "source": [
        "# More Questions on NumPy"
      ]
    },
    {
      "cell_type": "markdown",
      "metadata": {
        "id": "MH3-i8HOpQ1h"
      },
      "source": [
        "### Different ways to convert a Python dictionary to a NumPy array"
      ]
    },
    {
      "cell_type": "code",
      "execution_count": null,
      "metadata": {
        "colab": {
          "base_uri": "https://localhost:8080/"
        },
        "id": "drSiWjsHpUNZ",
        "outputId": "c3e1f807-93ca-428e-b8ed-be3bec69e162"
      },
      "outputs": [
        {
          "output_type": "stream",
          "name": "stdout",
          "text": [
            "{'question': 1, 'message': 'Hello'} \n",
            "\n",
            "[['question' '1']\n",
            " ['message' 'Hello']]\n"
          ]
        }
      ],
      "source": [
        "dictionary = {\n",
        "    \"question\": 1,\n",
        "    \"message\": \"Hello\"\n",
        "}\n",
        "\n",
        "items_list = list(dictionary.items())\n",
        "items_np_array = np.array(items_list)\n",
        "\n",
        "print(dictionary, \"\\n\")\n",
        "print(items_np_array)"
      ]
    },
    {
      "cell_type": "markdown",
      "metadata": {
        "id": "VQ9VjeltqRIj"
      },
      "source": [
        "### How to convert a list and tuple into NumPy arrays?"
      ]
    },
    {
      "cell_type": "code",
      "execution_count": null,
      "metadata": {
        "colab": {
          "base_uri": "https://localhost:8080/"
        },
        "id": "oXOdVwMBqYWt",
        "outputId": "4abfedb1-dfaf-48fe-dcda-7f0fd6cc645d"
      },
      "outputs": [
        {
          "output_type": "stream",
          "name": "stdout",
          "text": [
            "[1, 2, 3, 4, 5] - <class 'list'>\n",
            "(1, 2, 3) - <class 'tuple'> \n",
            "\n",
            "[1 2 3 4 5] - <class 'numpy.ndarray'>\n",
            "[1 2 3] - <class 'numpy.ndarray'>\n"
          ]
        }
      ],
      "source": [
        "number_list = [1, 2, 3, 4, 5]\n",
        "simple_tuple = (1, 2, 3)\n",
        "np_number_list = np.asarray(number_list)\n",
        "np_simple_tuple = np.asarray(simple_tuple)\n",
        "\n",
        "print(number_list, \"-\", type(number_list))\n",
        "print(simple_tuple, \"-\", type(simple_tuple), \"\\n\")\n",
        "print(np_number_list, \"-\", type(np_number_list))\n",
        "print(np_simple_tuple, \"-\", type(np_simple_tuple))"
      ]
    },
    {
      "cell_type": "markdown",
      "metadata": {
        "id": "u-ePG6D0roTX"
      },
      "source": [
        "### Ways to convert array of strings to array of floats"
      ]
    },
    {
      "cell_type": "code",
      "execution_count": null,
      "metadata": {
        "colab": {
          "base_uri": "https://localhost:8080/"
        },
        "id": "o_EoN7yzrttd",
        "outputId": "2d005daf-e69e-4498-9f3d-eb62b69513a9"
      },
      "outputs": [
        {
          "output_type": "stream",
          "name": "stdout",
          "text": [
            "['3.2' '4.5' '7.8' '10.0' '6.3'] \n",
            "\n",
            "Method 1: [ 3.2  4.5  7.8 10.   6.3]\n",
            "Method 2: [ 3.2  4.5  7.8 10.   6.3]\n",
            "Method 3: [ 3.2  4.5  7.8 10.   6.3]\n"
          ]
        }
      ],
      "source": [
        "array = np.array([\"3.2\", \"4.5\", \"7.8\", \"10.0\", \"6.3\"])\n",
        "\n",
        "method_1 = array.astype(float)\n",
        "method_2 = np.asarray(array, dtype = float, order = 'C')\n",
        "method_3 = np.asfarray(array)\n",
        "\n",
        "print(array, \"\\n\")\n",
        "print(\"Method 1:\", method_1)\n",
        "print(\"Method 2:\", method_2)\n",
        "print(\"Method 3:\", method_3)"
      ]
    },
    {
      "cell_type": "markdown",
      "metadata": {
        "id": "RKyajTm5tMMY"
      },
      "source": [
        "### Convert a NumPy array into a csv file"
      ]
    },
    {
      "cell_type": "code",
      "execution_count": null,
      "metadata": {
        "colab": {
          "base_uri": "https://localhost:8080/"
        },
        "id": "ir-xLAqNtPD_",
        "outputId": "a75f5288-f9e8-4702-d02a-301537d5850d"
      },
      "outputs": [
        {
          "output_type": "stream",
          "name": "stdout",
          "text": [
            "[ 0  1  2  3  4  5  6  7  8  9 10]\n"
          ]
        }
      ],
      "source": [
        "array = np.arange(11)\n",
        "print(array)\n",
        "\n",
        "np.savetxt(\"array.csv\", array)"
      ]
    },
    {
      "cell_type": "markdown",
      "metadata": {
        "id": "SniOc38ft0O9"
      },
      "source": [
        "### How to Convert an image to NumPy array and save it to CSV file using Python?"
      ]
    },
    {
      "cell_type": "code",
      "execution_count": null,
      "metadata": {
        "colab": {
          "base_uri": "https://localhost:8080/"
        },
        "id": "kQ3sZIWlt6xM",
        "outputId": "626e20bf-9299-4b2f-fd43-66bb6c2120bc"
      },
      "outputs": [
        {
          "output_type": "stream",
          "name": "stdout",
          "text": [
            "Loaded image shape: (768, 4098)\n",
            "Converted image shape: (768, 4098)\n"
          ]
        }
      ],
      "source": [
        "from PIL import Image\n",
        "\n",
        "image = Image.open(\"sample_image.jpg\")\n",
        "\n",
        "image_matrix = np.asarray(image)\n",
        "is_rgb = 3\n",
        "\n",
        "if image_matrix.shape[2] == is_rgb:\n",
        "  image_matrix = image_matrix.reshape(image_matrix.shape[0], -1)\n",
        "\n",
        "print(\"Loaded image shape:\", image_matrix.shape)\n",
        "\n",
        "np.savetxt(\"sample_image.csv\", image_matrix)\n",
        "\n",
        "retrieved_image = np.loadtxt(\"sample_image.csv\")\n",
        "print(\"Converted image shape:\", retrieved_image.shape)"
      ]
    },
    {
      "cell_type": "markdown",
      "source": [
        "### How to save a NumPy array to a text file?"
      ],
      "metadata": {
        "id": "N06tpAS6zGXQ"
      }
    },
    {
      "cell_type": "code",
      "source": [
        "array = np.array([[1, 2, 3], [4, 5, 6]])\n",
        "print(array, \"\\n\")\n",
        "\n",
        "np.savetxt(\"array.txt\", array)"
      ],
      "metadata": {
        "colab": {
          "base_uri": "https://localhost:8080/"
        },
        "id": "f3ZPIsVUzLHm",
        "outputId": "35ecf15b-47dc-446d-a669-041ce53adb5f"
      },
      "execution_count": null,
      "outputs": [
        {
          "output_type": "stream",
          "name": "stdout",
          "text": [
            "[[1 2 3]\n",
            " [4 5 6]] \n",
            "\n"
          ]
        }
      ]
    },
    {
      "cell_type": "markdown",
      "source": [
        "### Load data from a text file"
      ],
      "metadata": {
        "id": "PLAcYhor2Z_h"
      }
    },
    {
      "cell_type": "code",
      "source": [
        "saved_array = np.loadtxt(\"array.txt\")\n",
        "print(saved_array)"
      ],
      "metadata": {
        "colab": {
          "base_uri": "https://localhost:8080/"
        },
        "id": "dfZWtZT62eHG",
        "outputId": "0dfe9580-2dce-4d24-f6f1-a8689436c177"
      },
      "execution_count": null,
      "outputs": [
        {
          "output_type": "stream",
          "name": "stdout",
          "text": [
            "[[1. 2. 3.]\n",
            " [4. 5. 6.]]\n"
          ]
        }
      ]
    },
    {
      "cell_type": "markdown",
      "source": [
        "### Plot line graph from NumPy array"
      ],
      "metadata": {
        "id": "sNO6QSAP2idy"
      }
    },
    {
      "cell_type": "code",
      "source": [
        "x = np.arange(11)\n",
        "y = x * x\n",
        "\n",
        "plt.figure(figsize=(15, 10))\n",
        "plt.title(\"Line graph\")\n",
        "plt.plot(x, y, color=\"green\")\n",
        "plt.show()"
      ],
      "metadata": {
        "colab": {
          "base_uri": "https://localhost:8080/",
          "height": 607
        },
        "id": "Ir8WkCbW2jkC",
        "outputId": "b340d433-3ef1-4be6-964d-e1c41896f963"
      },
      "execution_count": null,
      "outputs": [
        {
          "output_type": "display_data",
          "data": {
            "text/plain": [
              "<Figure size 1080x720 with 1 Axes>"
            ],
            "image/png": "[encoded data removed]"
          },
          "metadata": {
            "needs_background": "light"
          }
        }
      ]
    },
    {
      "cell_type": "markdown",
      "source": [
        "### Create Histogram using NumPy"
      ],
      "metadata": {
        "id": "yxemELtK3PpY"
      }
    },
    {
      "cell_type": "code",
      "source": [
        "array = np.random.randint(100, size=50)\n",
        "\n",
        "print(array, \"\\n\")\n",
        "\n",
        "plt.figure(figsize=(15, 10))\n",
        "plt.title(\"Histogram using NumPy\")\n",
        "plt.hist(array)\n",
        "plt.show()"
      ],
      "metadata": {
        "colab": {
          "base_uri": "https://localhost:8080/",
          "height": 676
        },
        "id": "AICtjXEJ3UTT",
        "outputId": "3522050a-1b8b-4a47-de38-55e75ec1af04"
      },
      "execution_count": null,
      "outputs": [
        {
          "output_type": "stream",
          "name": "stdout",
          "text": [
            "[99  4 15 54  0 53 80 35 50 70 92 64 34 76 26 61 67 38 60 93 44 88 92 47\n",
            "  8 49  8 87 62 27 84 95 89 14  8 89 36 21 66 49 68 13 48 57 88 71 69 57\n",
            " 98 59] \n",
            "\n"
          ]
        },
        {
          "output_type": "display_data",
          "data": {
            "text/plain": [
              "<Figure size 1080x720 with 1 Axes>"
            ],
            "image/png": "[encoded data removed]"
          },
          "metadata": {
            "needs_background": "light"
          }
        }
      ]
    }
  ],
  "metadata": {
    "colab": {
      "provenance": []
    },
    "kernelspec": {
      "display_name": "Python 3",
      "name": "python3"
    },
    "language_info": {
      "name": "python"
    }
  },
  "nbformat": 4,
  "nbformat_minor": 0
}